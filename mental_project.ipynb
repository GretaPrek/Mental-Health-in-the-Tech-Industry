{
 "cells": [
  {
   "cell_type": "markdown",
   "metadata": {},
   "source": [
    "# Mental health in IT/Tech industry analysis\n",
    "\n",
    "Turing College DS program project by Greta Prekeriene"
   ]
  },
  {
   "cell_type": "markdown",
   "metadata": {},
   "source": [
    "## Introduction\n",
    "\n",
    "IT/Tech industry Analysis object to determine how mental health is viewed within the IT/TECH workplace. Prevalence rates of mental diseases indicated from the survey's data.\n",
    "Data for analysis used from Kaggle open source library https://www.kaggle.com/datasets/anth7310/mental-health-in-the-tech-industry/data. \n",
    "\n",
    "Dataset Information\n",
    "This data is from Open Source Mental Illness (OSMI) using survey data from years 2014, 2016, 2017, 2018 and 2019. Each survey measures and attitudes towards mental health and frequency of mental health disorders in the tech workplace. Survey contains questions about age, gender, country, history of mental health disorder,attitudes towards mental health, discussions with employers and coworkers, employeer benefits and support or lack of it. There are few open questions to describe situations and provide additional information about mental health.\n",
    "The raw data was processed and the SQLite database created. In total  3 tables: Survey, Question and Answer.\n",
    "\n",
    "This analysis provides summary of sociodemographic features of age, gender, country of living, race, remote work. The average respondent is 34 year old white man living in United States works some time remotely. Data design was not clearly described in the research page. According to Forbes proportions of gender and race a bit different than found from the survey data. More details are provided in the sociodemographic section.\n",
    "\n",
    "Analysis contains Prevalence rate of 3 most common diseases. 20% of respondents has been diagnosed with mood disorder. Mood disorder has highest rate of 0.2 with 95% confidence interval (0.18-0.22). Same confidence interval value of 0.02 is for anxiety disorder with prevelance rate of 0.17.  Third mental health disease is ADHD with 6% of prevalence rate.\n",
    "TOP 3 diseases diagnosed sums up to 43 % of respondents.\n",
    "\n",
    "\n"
   ]
  },
  {
   "cell_type": "code",
   "execution_count": 499,
   "metadata": {},
   "outputs": [],
   "source": [
    "import sqlite3\n",
    "import pandas as pd\n",
    "import seaborn as sns\n",
    "import numpy as np\n",
    "import matplotlib.pyplot as plt\n"
   ]
  },
  {
   "cell_type": "markdown",
   "metadata": {},
   "source": [
    "## Preparing data\n"
   ]
  },
  {
   "cell_type": "markdown",
   "metadata": {},
   "source": [
    "### Load data using Pandas\n",
    "Reading data using SQLite. To load 3 tables Answer, Question and Survey."
   ]
  },
  {
   "cell_type": "code",
   "execution_count": 500,
   "metadata": {},
   "outputs": [
    {
     "data": {
      "text/html": [
       "<div>\n",
       "<style scoped>\n",
       "    .dataframe tbody tr th:only-of-type {\n",
       "        vertical-align: middle;\n",
       "    }\n",
       "\n",
       "    .dataframe tbody tr th {\n",
       "        vertical-align: top;\n",
       "    }\n",
       "\n",
       "    .dataframe thead th {\n",
       "        text-align: right;\n",
       "    }\n",
       "</style>\n",
       "<table border=\"1\" class=\"dataframe\">\n",
       "  <thead>\n",
       "    <tr style=\"text-align: right;\">\n",
       "      <th></th>\n",
       "      <th>type</th>\n",
       "      <th>name</th>\n",
       "      <th>tbl_name</th>\n",
       "      <th>rootpage</th>\n",
       "      <th>sql</th>\n",
       "    </tr>\n",
       "  </thead>\n",
       "  <tbody>\n",
       "    <tr>\n",
       "      <th>0</th>\n",
       "      <td>table</td>\n",
       "      <td>Answer</td>\n",
       "      <td>Answer</td>\n",
       "      <td>2</td>\n",
       "      <td>CREATE TABLE \"Answer\" (\\n\\t\"AnswerText\" VARCHAR(10000) NULL,\\n\\t\"SurveyID\" INTEGER NULL,\\n\\t\"UserID\" INTEGER NULL,\\n\\t\"QuestionID\" INTEGER NULL\\n)</td>\n",
       "    </tr>\n",
       "    <tr>\n",
       "      <th>1</th>\n",
       "      <td>table</td>\n",
       "      <td>Question</td>\n",
       "      <td>Question</td>\n",
       "      <td>1434</td>\n",
       "      <td>CREATE TABLE \"Question\" (\\n\\t\"questiontext\" VARCHAR(1000) NULL,\\n\\t\"questionid\" INTEGER NULL\\n)</td>\n",
       "    </tr>\n",
       "    <tr>\n",
       "      <th>2</th>\n",
       "      <td>table</td>\n",
       "      <td>Survey</td>\n",
       "      <td>Survey</td>\n",
       "      <td>1438</td>\n",
       "      <td>CREATE TABLE \"Survey\" (\\n\\t\"SurveyID\" INTEGER NOT NULL,\\n\\t\"Description\" VARCHAR(255) NULL,\\n\\tPRIMARY KEY (\"SurveyID\")\\n)</td>\n",
       "    </tr>\n",
       "  </tbody>\n",
       "</table>\n",
       "</div>"
      ],
      "text/plain": [
       "    type      name  tbl_name  rootpage  \\\n",
       "0  table    Answer    Answer         2   \n",
       "1  table  Question  Question      1434   \n",
       "2  table    Survey    Survey      1438   \n",
       "\n",
       "                                                                                                                                                  sql  \n",
       "0  CREATE TABLE \"Answer\" (\\n\\t\"AnswerText\" VARCHAR(10000) NULL,\\n\\t\"SurveyID\" INTEGER NULL,\\n\\t\"UserID\" INTEGER NULL,\\n\\t\"QuestionID\" INTEGER NULL\\n)  \n",
       "1                                                     CREATE TABLE \"Question\" (\\n\\t\"questiontext\" VARCHAR(1000) NULL,\\n\\t\"questionid\" INTEGER NULL\\n)  \n",
       "2                          CREATE TABLE \"Survey\" (\\n\\t\"SurveyID\" INTEGER NOT NULL,\\n\\t\"Description\" VARCHAR(255) NULL,\\n\\tPRIMARY KEY (\"SurveyID\")\\n)  "
      ]
     },
     "execution_count": 500,
     "metadata": {},
     "output_type": "execute_result"
    }
   ],
   "source": [
    "address = 'data_mental_health/mental_health.sqlite'\n",
    "con = sqlite3.connect(address)\n",
    "table = pd.read_sql('''select * from sqlite_master where type = 'table' ; ''',con)\n",
    "\n",
    "table"
   ]
  },
  {
   "cell_type": "markdown",
   "metadata": {},
   "source": [
    "Answer table has 4 columns and 236898 rows. Answer (PRIMARY/FOREIGN KEY SurveyID, PRIMARY KEY UserID, PRIMARY/FOREIGN KEY QuestionID, TEXT AnswerText). Answers covers 5 years of survey data."
   ]
  },
  {
   "cell_type": "code",
   "execution_count": 501,
   "metadata": {},
   "outputs": [
    {
     "name": "stdout",
     "output_type": "stream",
     "text": [
      "Answer table has 236898 rows and 4 columns\n"
     ]
    },
    {
     "data": {
      "text/html": [
       "<div>\n",
       "<style scoped>\n",
       "    .dataframe tbody tr th:only-of-type {\n",
       "        vertical-align: middle;\n",
       "    }\n",
       "\n",
       "    .dataframe tbody tr th {\n",
       "        vertical-align: top;\n",
       "    }\n",
       "\n",
       "    .dataframe thead th {\n",
       "        text-align: right;\n",
       "    }\n",
       "</style>\n",
       "<table border=\"1\" class=\"dataframe\">\n",
       "  <thead>\n",
       "    <tr style=\"text-align: right;\">\n",
       "      <th></th>\n",
       "      <th>AnswerText</th>\n",
       "      <th>SurveyID</th>\n",
       "      <th>UserID</th>\n",
       "      <th>QuestionID</th>\n",
       "    </tr>\n",
       "  </thead>\n",
       "  <tbody>\n",
       "    <tr>\n",
       "      <th>0</th>\n",
       "      <td>37</td>\n",
       "      <td>2014</td>\n",
       "      <td>1</td>\n",
       "      <td>1</td>\n",
       "    </tr>\n",
       "    <tr>\n",
       "      <th>1</th>\n",
       "      <td>44</td>\n",
       "      <td>2014</td>\n",
       "      <td>2</td>\n",
       "      <td>1</td>\n",
       "    </tr>\n",
       "    <tr>\n",
       "      <th>2</th>\n",
       "      <td>32</td>\n",
       "      <td>2014</td>\n",
       "      <td>3</td>\n",
       "      <td>1</td>\n",
       "    </tr>\n",
       "    <tr>\n",
       "      <th>3</th>\n",
       "      <td>31</td>\n",
       "      <td>2014</td>\n",
       "      <td>4</td>\n",
       "      <td>1</td>\n",
       "    </tr>\n",
       "    <tr>\n",
       "      <th>4</th>\n",
       "      <td>31</td>\n",
       "      <td>2014</td>\n",
       "      <td>5</td>\n",
       "      <td>1</td>\n",
       "    </tr>\n",
       "  </tbody>\n",
       "</table>\n",
       "</div>"
      ],
      "text/plain": [
       "  AnswerText  SurveyID  UserID  QuestionID\n",
       "0         37      2014       1           1\n",
       "1         44      2014       2           1\n",
       "2         32      2014       3           1\n",
       "3         31      2014       4           1\n",
       "4         31      2014       5           1"
      ]
     },
     "execution_count": 501,
     "metadata": {},
     "output_type": "execute_result"
    }
   ],
   "source": [
    "answer_table =  pd.read_sql('''SELECT * FROM Answer ; ''',con)\n",
    "answer_table.shape[1]\n",
    "print(f\"Answer table has {answer_table.shape[0]} rows and {answer_table.shape[1]} columns\")\n",
    "answer_table.head()"
   ]
  },
  {
   "cell_type": "markdown",
   "metadata": {},
   "source": [
    "Question table has 2 columns and 105 rows. Question (PRIMARY KEY QuestionID, TEXT QuestionText). Question table primary contains all the questions and questions ID. Questions can be used in all every survey 2014, 2016, 2017, 2018 and 2019, But it doesn't mean that all surveys have same questions. There are questions about age, gender, remote work, diagnosed or suspected mental deseases, company view of mental health, personal and co-workers views, comments and notes about situations related to mental health at work. \n",
    "\n",
    "Survey table contains two columns with survey year and description of that year."
   ]
  },
  {
   "cell_type": "code",
   "execution_count": 502,
   "metadata": {},
   "outputs": [
    {
     "name": "stdout",
     "output_type": "stream",
     "text": [
      "Question table has 105 rows and 2 columns. There are 118 question ids in the table.\n"
     ]
    },
    {
     "data": {
      "text/html": [
       "<div>\n",
       "<style scoped>\n",
       "    .dataframe tbody tr th:only-of-type {\n",
       "        vertical-align: middle;\n",
       "    }\n",
       "\n",
       "    .dataframe tbody tr th {\n",
       "        vertical-align: top;\n",
       "    }\n",
       "\n",
       "    .dataframe thead th {\n",
       "        text-align: right;\n",
       "    }\n",
       "</style>\n",
       "<table border=\"1\" class=\"dataframe\">\n",
       "  <thead>\n",
       "    <tr style=\"text-align: right;\">\n",
       "      <th></th>\n",
       "      <th>questiontext</th>\n",
       "      <th>questionid</th>\n",
       "    </tr>\n",
       "  </thead>\n",
       "  <tbody>\n",
       "    <tr>\n",
       "      <th>0</th>\n",
       "      <td>What is your age?</td>\n",
       "      <td>1</td>\n",
       "    </tr>\n",
       "    <tr>\n",
       "      <th>1</th>\n",
       "      <td>What is your gender?</td>\n",
       "      <td>2</td>\n",
       "    </tr>\n",
       "    <tr>\n",
       "      <th>2</th>\n",
       "      <td>What country do you live in?</td>\n",
       "      <td>3</td>\n",
       "    </tr>\n",
       "    <tr>\n",
       "      <th>3</th>\n",
       "      <td>If you live in the United States, which state or territory do you live in?</td>\n",
       "      <td>4</td>\n",
       "    </tr>\n",
       "    <tr>\n",
       "      <th>4</th>\n",
       "      <td>Are you self-employed?</td>\n",
       "      <td>5</td>\n",
       "    </tr>\n",
       "  </tbody>\n",
       "</table>\n",
       "</div>"
      ],
      "text/plain": [
       "                                                                 questiontext  \\\n",
       "0                                                           What is your age?   \n",
       "1                                                        What is your gender?   \n",
       "2                                                What country do you live in?   \n",
       "3  If you live in the United States, which state or territory do you live in?   \n",
       "4                                                      Are you self-employed?   \n",
       "\n",
       "   questionid  \n",
       "0           1  \n",
       "1           2  \n",
       "2           3  \n",
       "3           4  \n",
       "4           5  "
      ]
     },
     "execution_count": 502,
     "metadata": {},
     "output_type": "execute_result"
    }
   ],
   "source": [
    "question_table =  pd.read_sql('''SELECT * FROM Question ; ''',con)\n",
    "question_table.shape[1]\n",
    "print(f\"Question table has {question_table.shape[0]} rows and {question_table.shape[1]} columns. There are {question_table['questionid'].max()} question ids in the table.\")\n",
    "question_table.head()"
   ]
  },
  {
   "cell_type": "markdown",
   "metadata": {},
   "source": [
    "### Duplicates\n",
    "There are no duplicated question."
   ]
  },
  {
   "cell_type": "code",
   "execution_count": 503,
   "metadata": {},
   "outputs": [
    {
     "name": "stdout",
     "output_type": "stream",
     "text": [
      "Number of Duplicates in Questions:  0\n"
     ]
    }
   ],
   "source": [
    "duplicates = question_table.duplicated()\n",
    "sum_duplicates = duplicates.sum()\n",
    "sum_duplicates = duplicates.size - duplicates.value_counts()[False]\n",
    "print(\"Number of Duplicates in Questions: \", sum_duplicates)"
   ]
  },
  {
   "cell_type": "markdown",
   "metadata": {},
   "source": [
    "### Missing values\n",
    "There are no missing values in Answer and Question tables. Although upon visual inspection of responses in the Answer table you can see repetetive values of -1 for various questions. This perhaps means that all missing values was changed to value -1."
   ]
  },
  {
   "cell_type": "code",
   "execution_count": 504,
   "metadata": {},
   "outputs": [
    {
     "data": {
      "text/plain": [
       "AnswerText    0\n",
       "SurveyID      0\n",
       "UserID        0\n",
       "QuestionID    0\n",
       "dtype: int64"
      ]
     },
     "execution_count": 504,
     "metadata": {},
     "output_type": "execute_result"
    }
   ],
   "source": [
    "answer_table.isnull().sum()"
   ]
  },
  {
   "cell_type": "code",
   "execution_count": 505,
   "metadata": {},
   "outputs": [
    {
     "data": {
      "text/plain": [
       "questiontext    0\n",
       "questionid      0\n",
       "dtype: int64"
      ]
     },
     "execution_count": 505,
     "metadata": {},
     "output_type": "execute_result"
    }
   ],
   "source": [
    "question_table.isnull().sum()"
   ]
  },
  {
   "cell_type": "markdown",
   "metadata": {},
   "source": [
    "For visual answers inspection tables Answer and Question joined and unique answers provided in the table below.\n",
    "From the data possible to have a numeric answer(What is your age?), multiple choice questions, yes or no coded as 1 and 0(Are you self-employed?), range choices, open text answers(What is your gender?)."
   ]
  },
  {
   "cell_type": "code",
   "execution_count": 581,
   "metadata": {},
   "outputs": [
    {
     "data": {
      "text/html": [
       "<div>\n",
       "<style scoped>\n",
       "    .dataframe tbody tr th:only-of-type {\n",
       "        vertical-align: middle;\n",
       "    }\n",
       "\n",
       "    .dataframe tbody tr th {\n",
       "        vertical-align: top;\n",
       "    }\n",
       "\n",
       "    .dataframe thead th {\n",
       "        text-align: right;\n",
       "    }\n",
       "</style>\n",
       "<table border=\"1\" class=\"dataframe\">\n",
       "  <thead>\n",
       "    <tr style=\"text-align: right;\">\n",
       "      <th></th>\n",
       "      <th>questiontext</th>\n",
       "      <th>UniqueAnswers</th>\n",
       "    </tr>\n",
       "  </thead>\n",
       "  <tbody>\n",
       "    <tr>\n",
       "      <th>0</th>\n",
       "      <td>What is your age?</td>\n",
       "      <td>37,44,32,31,33,35,39,42,23,29,36,27,46,41,34,30,40,38,50,24,18,28,26,22,19,25,45,21,-29,43,56,60,54,329,55,-1,48,20,57,58,47,62,51,65,49,5,53,61,8,11,72,52,17,63,99,323,3,66,59,15,74,70,64,67,0</td>\n",
       "    </tr>\n",
       "    <tr>\n",
       "      <th>1</th>\n",
       "      <td>What is your gender?</td>\n",
       "      <td>Female,Male,Male-ish,Trans-female,something kinda male?,queer/she/they,non-binary,Nah,All,Enby,fluid,Genderqueer,Androgyne,Agender,Guy (-ish) ^_^,male leaning androgynous,Trans woman,Neuter,Female (trans),queer,A little about you,p,ostensibly male, unsure what that really means,Bigender,Female assigned at birth,fm,Transitioned, M2F,Genderfluid (born female),Other/Transfeminine,Female or Multi-Gender Femme,Androgynous,male 9:1 female, roughly,-1,Other,nb masculine,none of your business,genderqueer,Human,Genderfluid,genderqueer woman,mtf,Queer,Fluid,Male/genderqueer,Nonbinary,human,Unicorn,Male (trans, FtM),Genderflux demi-girl,female-bodied; no feelings about gender,AFAB,Transgender woman,male,female,male/androgynous,uhhhhhhhhh fem genderqueer?,God King of the Valajar,Non-binary,Agender/genderfluid,sometimes,Woman-identified,Contextual,Non binary,Genderqueer demigirl,Genderqueer/non-binary,nonbinary,Female-ish,\\-,trans woman,Transfeminine,None,Ostensibly Male,MALE,Male (or female, or both),Trans man,transgender,non binary,Female/gender non-binary.,genderfluid,Demiguy,none,Trans female,She/her/they/them,SWM,NB,Nonbinary/femme,gender non-conforming woman,Masculine,Cishet male,Female-identified,agender,Questioning,I have a penis,rr,Agender trans woman,femmina,43,masculino,I am a Wookie,Trans non-binary/genderfluid,Non-binary and gender fluid</td>\n",
       "    </tr>\n",
       "    <tr>\n",
       "      <th>2</th>\n",
       "      <td>What country do you live in?</td>\n",
       "      <td>United States,Canada,United Kingdom,Bulgaria,France,Portugal,Netherlands,Switzerland,Poland,Australia,Germany,Russia,Mexico,Brazil,Slovenia,Costa Rica,Austria,Ireland,India,South Africa,Italy,Sweden,Colombia,Latvia,Romania,Belgium,New Zealand,Zimbabwe,Spain,Finland,Uruguay,Israel,Bosnia and Herzegovina,Hungary,Singapore,Japan,Nigeria,Croatia,Norway,Thailand,Denmark,Bahamas, The,Greece,Moldova,Georgia,China,Czech Republic,Philippines,United States of America,Lithuania,Venezuela,Argentina,Vietnam,Slovakia,Bangladesh,Algeria,Pakistan,Afghanistan,Other,Brunei,Iran,Ecuador,Chile,Guatemala,Taiwan,Serbia,Estonia,Iceland,Indonesia,Jordan,Ukraine,Belarus,Turkey,-1,Mauritius,Saudi Arabia,Kenya,Ethiopia,Macedonia,Hong Kong,Ghana</td>\n",
       "    </tr>\n",
       "    <tr>\n",
       "      <th>3</th>\n",
       "      <td>If you live in the United States, which state or territory do you live in?</td>\n",
       "      <td>Illinois,Indiana,-1,Texas,Tennessee,Michigan,Ohio,California,Connecticut,Maryland,New York,North Carolina,Massachusetts,Iowa,Pennsylvania,Washington,Wisconsin,Utah,New Mexico,Oregon,Florida,Minnesota,Missouri,Arizona,Colorado,Georgia,DC,Nebraska,West Virginia,Oklahoma,Kansas,Virginia,New Hampshire,Kentucky,Alabama,Nevada,New Jersey,South Carolina,Vermont,South Dakota,Idaho,Mississippi,Rhode Island,Wyoming,Louisiana,Maine,North Dakota,District of Columbia,Montana,Alaska,Delaware</td>\n",
       "    </tr>\n",
       "    <tr>\n",
       "      <th>4</th>\n",
       "      <td>Are you self-employed?</td>\n",
       "      <td>-1,1,0</td>\n",
       "    </tr>\n",
       "  </tbody>\n",
       "</table>\n",
       "</div>"
      ],
      "text/plain": [
       "                                                                 questiontext  \\\n",
       "0                                                           What is your age?   \n",
       "1                                                        What is your gender?   \n",
       "2                                                What country do you live in?   \n",
       "3  If you live in the United States, which state or territory do you live in?   \n",
       "4                                                      Are you self-employed?   \n",
       "\n",
       "                                                                                                                                                                                                                                                                                                                                                                                                                                                                                                                                                                                                                                                                                                                                                                                                                                                                                                                                                                                                                                                                                                                                                                                                                                                                                                                                                                                                     UniqueAnswers  \n",
       "0                                                                                                                                                                                                                                                                                                                                                                                                                                                                                                                                                                                                                                                                                                                                                                                                                                                                                                                                                                                                                                                                                                                                                                                                                37,44,32,31,33,35,39,42,23,29,36,27,46,41,34,30,40,38,50,24,18,28,26,22,19,25,45,21,-29,43,56,60,54,329,55,-1,48,20,57,58,47,62,51,65,49,5,53,61,8,11,72,52,17,63,99,323,3,66,59,15,74,70,64,67,0  \n",
       "1  Female,Male,Male-ish,Trans-female,something kinda male?,queer/she/they,non-binary,Nah,All,Enby,fluid,Genderqueer,Androgyne,Agender,Guy (-ish) ^_^,male leaning androgynous,Trans woman,Neuter,Female (trans),queer,A little about you,p,ostensibly male, unsure what that really means,Bigender,Female assigned at birth,fm,Transitioned, M2F,Genderfluid (born female),Other/Transfeminine,Female or Multi-Gender Femme,Androgynous,male 9:1 female, roughly,-1,Other,nb masculine,none of your business,genderqueer,Human,Genderfluid,genderqueer woman,mtf,Queer,Fluid,Male/genderqueer,Nonbinary,human,Unicorn,Male (trans, FtM),Genderflux demi-girl,female-bodied; no feelings about gender,AFAB,Transgender woman,male,female,male/androgynous,uhhhhhhhhh fem genderqueer?,God King of the Valajar,Non-binary,Agender/genderfluid,sometimes,Woman-identified,Contextual,Non binary,Genderqueer demigirl,Genderqueer/non-binary,nonbinary,Female-ish,\\-,trans woman,Transfeminine,None,Ostensibly Male,MALE,Male (or female, or both),Trans man,transgender,non binary,Female/gender non-binary.,genderfluid,Demiguy,none,Trans female,She/her/they/them,SWM,NB,Nonbinary/femme,gender non-conforming woman,Masculine,Cishet male,Female-identified,agender,Questioning,I have a penis,rr,Agender trans woman,femmina,43,masculino,I am a Wookie,Trans non-binary/genderfluid,Non-binary and gender fluid  \n",
       "2                                                                                                                                                                                                                                                                                                                                                                                                                                                                                                                                                                                                                                                          United States,Canada,United Kingdom,Bulgaria,France,Portugal,Netherlands,Switzerland,Poland,Australia,Germany,Russia,Mexico,Brazil,Slovenia,Costa Rica,Austria,Ireland,India,South Africa,Italy,Sweden,Colombia,Latvia,Romania,Belgium,New Zealand,Zimbabwe,Spain,Finland,Uruguay,Israel,Bosnia and Herzegovina,Hungary,Singapore,Japan,Nigeria,Croatia,Norway,Thailand,Denmark,Bahamas, The,Greece,Moldova,Georgia,China,Czech Republic,Philippines,United States of America,Lithuania,Venezuela,Argentina,Vietnam,Slovakia,Bangladesh,Algeria,Pakistan,Afghanistan,Other,Brunei,Iran,Ecuador,Chile,Guatemala,Taiwan,Serbia,Estonia,Iceland,Indonesia,Jordan,Ukraine,Belarus,Turkey,-1,Mauritius,Saudi Arabia,Kenya,Ethiopia,Macedonia,Hong Kong,Ghana  \n",
       "3                                                                                                                                                                                                                                                                                                                                                                                                                                                                                                                                                                                                                                                                                                                                                                                                                                                                                                               Illinois,Indiana,-1,Texas,Tennessee,Michigan,Ohio,California,Connecticut,Maryland,New York,North Carolina,Massachusetts,Iowa,Pennsylvania,Washington,Wisconsin,Utah,New Mexico,Oregon,Florida,Minnesota,Missouri,Arizona,Colorado,Georgia,DC,Nebraska,West Virginia,Oklahoma,Kansas,Virginia,New Hampshire,Kentucky,Alabama,Nevada,New Jersey,South Carolina,Vermont,South Dakota,Idaho,Mississippi,Rhode Island,Wyoming,Louisiana,Maine,North Dakota,District of Columbia,Montana,Alaska,Delaware  \n",
       "4                                                                                                                                                                                                                                                                                                                                                                                                                                                                                                                                                                                                                                                                                                                                                                                                                                                                                                                                                                                                                                                                                                                                                                                                                                                                                                                                                                                                           -1,1,0  "
      ]
     },
     "execution_count": 581,
     "metadata": {},
     "output_type": "execute_result"
    }
   ],
   "source": [
    "unique_answers = pd.read_sql('''\n",
    "SELECT q.questiontext, group_concat(distinct(a.AnswerText)) AS UniqueAnswers\n",
    "FROM `Answer` a\n",
    "FULL JOIN Question q ON a.QuestionID = q.questionid\n",
    "GROUP BY q.questionid; ''',con)\n",
    "\n",
    "unique_answers.head(5)"
   ]
  },
  {
   "cell_type": "markdown",
   "metadata": {},
   "source": [
    "What is your gender? Question ID 2"
   ]
  },
  {
   "cell_type": "code",
   "execution_count": 871,
   "metadata": {},
   "outputs": [
    {
     "data": {
      "text/plain": [
       "24"
      ]
     },
     "execution_count": 871,
     "metadata": {},
     "output_type": "execute_result"
    }
   ],
   "source": [
    "\n",
    "use_for_filtering = ['AnswerText']\n",
    "answer_table[answer_table['QuestionID'] == 2][use_for_filtering]['AnswerText'].nunique()\n"
   ]
  },
  {
   "cell_type": "markdown",
   "metadata": {},
   "source": [
    "Questions can vary between years. In a pivot table counting values based on Survey ID per year we can see that questions from 1 to 12 are in all 5 surveys. 2017, 2018 and 2019 year has same amount of questions and most questions per survey in comparisson with 2014 and 2016."
   ]
  },
  {
   "cell_type": "code",
   "execution_count": 584,
   "metadata": {},
   "outputs": [
    {
     "name": "stdout",
     "output_type": "stream",
     "text": [
      "Counts of amount of missing values pivoting questions per year QuestionID\n",
      "1     0\n",
      "2     0\n",
      "3     0\n",
      "4     0\n",
      "5     0\n",
      "6     0\n",
      "7     0\n",
      "8     0\n",
      "9     0\n",
      "10    0\n",
      "11    0\n",
      "12    0\n",
      "13    1\n",
      "14    1\n",
      "15    1\n",
      "dtype: int64\n",
      "Counts of amount of missing values SurveyID\n",
      "2014    79\n",
      "2016    45\n",
      "2017    29\n",
      "2018    29\n",
      "2019    29\n",
      "dtype: int64\n"
     ]
    }
   ],
   "source": [
    "\n",
    "df_pivot = pd.pivot_table(answer_table, values='UserID', index='QuestionID', columns='SurveyID', aggfunc='count')\n",
    "\n",
    "row_nan_count = df_pivot.apply(lambda x: x.isna().sum(), axis=1)\n",
    "print(f\"Counts of amount of missing values pivoting questions per year {row_nan_count.head(15)}\")\n",
    "\n",
    "col_nan_count = df_pivot.apply(lambda x: x.isna().sum(), axis=0)\n",
    "print(f\"Counts of amount of missing values {col_nan_count}\")\n"
   ]
  },
  {
   "cell_type": "markdown",
   "metadata": {},
   "source": [
    "Survey for 2017, 2018 and 2019 has most amount of questions because they have less amount of missing questions from comparisson above."
   ]
  },
  {
   "cell_type": "markdown",
   "metadata": {},
   "source": [
    "What 12 questions are same for all 5 surveys?"
   ]
  },
  {
   "cell_type": "code",
   "execution_count": 509,
   "metadata": {},
   "outputs": [
    {
     "name": "stdout",
     "output_type": "stream",
     "text": [
      "Questions that can be found in all 5 surveys \n"
     ]
    },
    {
     "data": {
      "text/html": [
       "<div>\n",
       "<style scoped>\n",
       "    .dataframe tbody tr th:only-of-type {\n",
       "        vertical-align: middle;\n",
       "    }\n",
       "\n",
       "    .dataframe tbody tr th {\n",
       "        vertical-align: top;\n",
       "    }\n",
       "\n",
       "    .dataframe thead th {\n",
       "        text-align: right;\n",
       "    }\n",
       "</style>\n",
       "<table border=\"1\" class=\"dataframe\">\n",
       "  <thead>\n",
       "    <tr style=\"text-align: right;\">\n",
       "      <th></th>\n",
       "      <th>questiontext</th>\n",
       "      <th>questionid</th>\n",
       "    </tr>\n",
       "  </thead>\n",
       "  <tbody>\n",
       "    <tr>\n",
       "      <th>0</th>\n",
       "      <td>What is your age?</td>\n",
       "      <td>1</td>\n",
       "    </tr>\n",
       "    <tr>\n",
       "      <th>1</th>\n",
       "      <td>What is your gender?</td>\n",
       "      <td>2</td>\n",
       "    </tr>\n",
       "    <tr>\n",
       "      <th>2</th>\n",
       "      <td>What country do you live in?</td>\n",
       "      <td>3</td>\n",
       "    </tr>\n",
       "    <tr>\n",
       "      <th>3</th>\n",
       "      <td>If you live in the United States, which state or territory do you live in?</td>\n",
       "      <td>4</td>\n",
       "    </tr>\n",
       "    <tr>\n",
       "      <th>4</th>\n",
       "      <td>Are you self-employed?</td>\n",
       "      <td>5</td>\n",
       "    </tr>\n",
       "    <tr>\n",
       "      <th>5</th>\n",
       "      <td>Do you have a family history of mental illness?</td>\n",
       "      <td>6</td>\n",
       "    </tr>\n",
       "    <tr>\n",
       "      <th>6</th>\n",
       "      <td>Have you ever sought treatment for a mental health disorder from a mental health professional?</td>\n",
       "      <td>7</td>\n",
       "    </tr>\n",
       "    <tr>\n",
       "      <th>7</th>\n",
       "      <td>How many employees does your company or organization have?</td>\n",
       "      <td>8</td>\n",
       "    </tr>\n",
       "    <tr>\n",
       "      <th>8</th>\n",
       "      <td>Is your employer primarily a tech company/organization?</td>\n",
       "      <td>9</td>\n",
       "    </tr>\n",
       "    <tr>\n",
       "      <th>9</th>\n",
       "      <td>Does your employer provide mental health benefits as part of healthcare coverage?</td>\n",
       "      <td>10</td>\n",
       "    </tr>\n",
       "    <tr>\n",
       "      <th>10</th>\n",
       "      <td>Is your anonymity protected if you choose to take advantage of mental health or substance abuse treatment resources provided by your employer?</td>\n",
       "      <td>11</td>\n",
       "    </tr>\n",
       "    <tr>\n",
       "      <th>11</th>\n",
       "      <td>Would you bring up a mental health issue with a potential employer in an interview?</td>\n",
       "      <td>12</td>\n",
       "    </tr>\n",
       "  </tbody>\n",
       "</table>\n",
       "</div>"
      ],
      "text/plain": [
       "                                                                                                                                      questiontext  \\\n",
       "0                                                                                                                                What is your age?   \n",
       "1                                                                                                                             What is your gender?   \n",
       "2                                                                                                                     What country do you live in?   \n",
       "3                                                                       If you live in the United States, which state or territory do you live in?   \n",
       "4                                                                                                                           Are you self-employed?   \n",
       "5                                                                                                  Do you have a family history of mental illness?   \n",
       "6                                                   Have you ever sought treatment for a mental health disorder from a mental health professional?   \n",
       "7                                                                                       How many employees does your company or organization have?   \n",
       "8                                                                                          Is your employer primarily a tech company/organization?   \n",
       "9                                                                Does your employer provide mental health benefits as part of healthcare coverage?   \n",
       "10  Is your anonymity protected if you choose to take advantage of mental health or substance abuse treatment resources provided by your employer?   \n",
       "11                                                             Would you bring up a mental health issue with a potential employer in an interview?   \n",
       "\n",
       "    questionid  \n",
       "0            1  \n",
       "1            2  \n",
       "2            3  \n",
       "3            4  \n",
       "4            5  \n",
       "5            6  \n",
       "6            7  \n",
       "7            8  \n",
       "8            9  \n",
       "9           10  \n",
       "10          11  \n",
       "11          12  "
      ]
     },
     "execution_count": 509,
     "metadata": {},
     "output_type": "execute_result"
    }
   ],
   "source": [
    "print(f\"Questions that can be found in all 5 surveys \")\n",
    "question_table.head(12)"
   ]
  },
  {
   "cell_type": "markdown",
   "metadata": {},
   "source": [
    "### Answers \n",
    "\n",
    "Investigate possible answers in the survey.\n",
    "\n",
    "To have all data in one table we can use SQL and JOIN to join tables Answer and Question. There are no reason to join Survey table because it mainly contains survey years and years can be found in Question table."
   ]
  },
  {
   "cell_type": "code",
   "execution_count": 510,
   "metadata": {},
   "outputs": [
    {
     "data": {
      "text/html": [
       "<div>\n",
       "<style scoped>\n",
       "    .dataframe tbody tr th:only-of-type {\n",
       "        vertical-align: middle;\n",
       "    }\n",
       "\n",
       "    .dataframe tbody tr th {\n",
       "        vertical-align: top;\n",
       "    }\n",
       "\n",
       "    .dataframe thead th {\n",
       "        text-align: right;\n",
       "    }\n",
       "</style>\n",
       "<table border=\"1\" class=\"dataframe\">\n",
       "  <thead>\n",
       "    <tr style=\"text-align: right;\">\n",
       "      <th></th>\n",
       "      <th>AnswerText</th>\n",
       "      <th>SurveyID</th>\n",
       "      <th>UserID</th>\n",
       "      <th>QuestionID</th>\n",
       "      <th>questiontext</th>\n",
       "    </tr>\n",
       "  </thead>\n",
       "  <tbody>\n",
       "    <tr>\n",
       "      <th>0</th>\n",
       "      <td>37</td>\n",
       "      <td>2014</td>\n",
       "      <td>1</td>\n",
       "      <td>1</td>\n",
       "      <td>What is your age?</td>\n",
       "    </tr>\n",
       "    <tr>\n",
       "      <th>1</th>\n",
       "      <td>44</td>\n",
       "      <td>2014</td>\n",
       "      <td>2</td>\n",
       "      <td>1</td>\n",
       "      <td>What is your age?</td>\n",
       "    </tr>\n",
       "    <tr>\n",
       "      <th>2</th>\n",
       "      <td>32</td>\n",
       "      <td>2014</td>\n",
       "      <td>3</td>\n",
       "      <td>1</td>\n",
       "      <td>What is your age?</td>\n",
       "    </tr>\n",
       "    <tr>\n",
       "      <th>3</th>\n",
       "      <td>31</td>\n",
       "      <td>2014</td>\n",
       "      <td>4</td>\n",
       "      <td>1</td>\n",
       "      <td>What is your age?</td>\n",
       "    </tr>\n",
       "    <tr>\n",
       "      <th>4</th>\n",
       "      <td>31</td>\n",
       "      <td>2014</td>\n",
       "      <td>5</td>\n",
       "      <td>1</td>\n",
       "      <td>What is your age?</td>\n",
       "    </tr>\n",
       "  </tbody>\n",
       "</table>\n",
       "</div>"
      ],
      "text/plain": [
       "  AnswerText  SurveyID  UserID  QuestionID       questiontext\n",
       "0         37      2014       1           1  What is your age?\n",
       "1         44      2014       2           1  What is your age?\n",
       "2         32      2014       3           1  What is your age?\n",
       "3         31      2014       4           1  What is your age?\n",
       "4         31      2014       5           1  What is your age?"
      ]
     },
     "execution_count": 510,
     "metadata": {},
     "output_type": "execute_result"
    }
   ],
   "source": [
    "df_sample = pd.read_sql('''\n",
    "                    SELECT a.AnswerText, a.SurveyID, a.UserID, a.QuestionID, q.questiontext\n",
    "                    FROM `Answer` a\n",
    "                    FULL JOIN Question q ON a.QuestionID = q.questionid ; ''',con)\n",
    "\n",
    "df_sample.head()"
   ]
  },
  {
   "cell_type": "markdown",
   "metadata": {},
   "source": [
    "What unique answers we have per question?"
   ]
  },
  {
   "cell_type": "code",
   "execution_count": 950,
   "metadata": {},
   "outputs": [
    {
     "data": {
      "text/html": [
       "<div>\n",
       "<style scoped>\n",
       "    .dataframe tbody tr th:only-of-type {\n",
       "        vertical-align: middle;\n",
       "    }\n",
       "\n",
       "    .dataframe tbody tr th {\n",
       "        vertical-align: top;\n",
       "    }\n",
       "\n",
       "    .dataframe thead th {\n",
       "        text-align: right;\n",
       "    }\n",
       "</style>\n",
       "<table border=\"1\" class=\"dataframe\">\n",
       "  <thead>\n",
       "    <tr style=\"text-align: right;\">\n",
       "      <th></th>\n",
       "      <th>CountUniqueAnswers</th>\n",
       "      <th>questionid</th>\n",
       "    </tr>\n",
       "  </thead>\n",
       "  <tbody>\n",
       "    <tr>\n",
       "      <th>0</th>\n",
       "      <td>1</td>\n",
       "      <td>84</td>\n",
       "    </tr>\n",
       "    <tr>\n",
       "      <th>1</th>\n",
       "      <td>2</td>\n",
       "      <td>7</td>\n",
       "    </tr>\n",
       "    <tr>\n",
       "      <th>2</th>\n",
       "      <td>2</td>\n",
       "      <td>22</td>\n",
       "    </tr>\n",
       "    <tr>\n",
       "      <th>3</th>\n",
       "      <td>2</td>\n",
       "      <td>93</td>\n",
       "    </tr>\n",
       "    <tr>\n",
       "      <th>4</th>\n",
       "      <td>2</td>\n",
       "      <td>102</td>\n",
       "    </tr>\n",
       "    <tr>\n",
       "      <th>...</th>\n",
       "      <td>...</td>\n",
       "      <td>...</td>\n",
       "    </tr>\n",
       "    <tr>\n",
       "      <th>100</th>\n",
       "      <td>337</td>\n",
       "      <td>82</td>\n",
       "    </tr>\n",
       "    <tr>\n",
       "      <th>101</th>\n",
       "      <td>353</td>\n",
       "      <td>59</td>\n",
       "    </tr>\n",
       "    <tr>\n",
       "      <th>102</th>\n",
       "      <td>449</td>\n",
       "      <td>61</td>\n",
       "    </tr>\n",
       "    <tr>\n",
       "      <th>103</th>\n",
       "      <td>457</td>\n",
       "      <td>63</td>\n",
       "    </tr>\n",
       "    <tr>\n",
       "      <th>104</th>\n",
       "      <td>1020</td>\n",
       "      <td>86</td>\n",
       "    </tr>\n",
       "  </tbody>\n",
       "</table>\n",
       "<p>105 rows × 2 columns</p>\n",
       "</div>"
      ],
      "text/plain": [
       "     CountUniqueAnswers  questionid\n",
       "0                     1          84\n",
       "1                     2           7\n",
       "2                     2          22\n",
       "3                     2          93\n",
       "4                     2         102\n",
       "..                  ...         ...\n",
       "100                 337          82\n",
       "101                 353          59\n",
       "102                 449          61\n",
       "103                 457          63\n",
       "104                1020          86\n",
       "\n",
       "[105 rows x 2 columns]"
      ]
     },
     "execution_count": 950,
     "metadata": {},
     "output_type": "execute_result"
    }
   ],
   "source": [
    "query = ('''\n",
    "SELECT count(distinct(a.AnswerText)) AS CountUniqueAnswers, q.questionid\n",
    "FROM `Answer` a\n",
    "  FULL JOIN Question q ON a.QuestionID = q.questionid\n",
    "GROUP BY q.questionid\n",
    "         ORDER BY CountUniqueAnswers\n",
    "; ''')\n",
    "\n",
    "query_result = pd.read_sql(query, con)\n",
    "query_result"
   ]
  },
  {
   "cell_type": "markdown",
   "metadata": {},
   "source": [
    "From the data we see questions can have from 1 up to 1020 answers. Questions with higher number of answers are open text questions, some of them asks to comment or describe situations. Let's see examples of possible answers to see possible type of questions."
   ]
  },
  {
   "cell_type": "markdown",
   "metadata": {},
   "source": [
    "Are there any pattern in the unique answers per question?"
   ]
  },
  {
   "cell_type": "code",
   "execution_count": 951,
   "metadata": {},
   "outputs": [
    {
     "data": {
      "text/html": [
       "<div>\n",
       "<style scoped>\n",
       "    .dataframe tbody tr th:only-of-type {\n",
       "        vertical-align: middle;\n",
       "    }\n",
       "\n",
       "    .dataframe tbody tr th {\n",
       "        vertical-align: top;\n",
       "    }\n",
       "\n",
       "    .dataframe thead th {\n",
       "        text-align: right;\n",
       "    }\n",
       "</style>\n",
       "<table border=\"1\" class=\"dataframe\">\n",
       "  <thead>\n",
       "    <tr style=\"text-align: right;\">\n",
       "      <th></th>\n",
       "      <th>questiontext</th>\n",
       "      <th>UniqueAnswers</th>\n",
       "    </tr>\n",
       "  </thead>\n",
       "  <tbody>\n",
       "    <tr>\n",
       "      <th>0</th>\n",
       "      <td>What is your age?</td>\n",
       "      <td>37,44,32,31,33,35,39,42,23,29,36,27,46,41,34,30,40,38,50,24,18,28,26,22,19,25,45,21,-29,43,56,60,54,329,55,-1,48,20,57,58,47,62,51,65,49,5,53,61,8,11,72,52,17,63,99,323,3,66,59,15,74,70,64,67,0</td>\n",
       "    </tr>\n",
       "    <tr>\n",
       "      <th>1</th>\n",
       "      <td>What is your gender?</td>\n",
       "      <td>Female,Male,Male-ish,Trans-female,something kinda male?,queer/she/they,non-binary,Nah,All,Enby,fluid,Genderqueer,Androgyne,Agender,Guy (-ish) ^_^,male leaning androgynous,Trans woman,Neuter,Female (trans),queer,A little about you,p,ostensibly male, unsure what that really means,Bigender,Female assigned at birth,fm,Transitioned, M2F,Genderfluid (born female),Other/Transfeminine,Female or Multi-Gender Femme,Androgynous,male 9:1 female, roughly,-1,Other,nb masculine,none of your business,genderqueer,Human,Genderfluid,genderqueer woman,mtf,Queer,Fluid,Male/genderqueer,Nonbinary,human,Unicorn,Male (trans, FtM),Genderflux demi-girl,female-bodied; no feelings about gender,AFAB,Transgender woman,male,female,male/androgynous,uhhhhhhhhh fem genderqueer?,God King of the Valajar,Non-binary,Agender/genderfluid,sometimes,Woman-identified,Contextual,Non binary,Genderqueer demigirl,Genderqueer/non-binary,nonbinary,Female-ish,\\-,trans woman,Transfeminine,None,Ostensibly Male,MALE,Male (or female, or both),Trans man,transgender,non binary,Female/gender non-binary.,genderfluid,Demiguy,none,Trans female,She/her/they/them,SWM,NB,Nonbinary/femme,gender non-conforming woman,Masculine,Cishet male,Female-identified,agender,Questioning,I have a penis,rr,Agender trans woman,femmina,43,masculino,I am a Wookie,Trans non-binary/genderfluid,Non-binary and gender fluid</td>\n",
       "    </tr>\n",
       "    <tr>\n",
       "      <th>2</th>\n",
       "      <td>What country do you live in?</td>\n",
       "      <td>United States,Canada,United Kingdom,Bulgaria,France,Portugal,Netherlands,Switzerland,Poland,Australia,Germany,Russia,Mexico,Brazil,Slovenia,Costa Rica,Austria,Ireland,India,South Africa,Italy,Sweden,Colombia,Latvia,Romania,Belgium,New Zealand,Zimbabwe,Spain,Finland,Uruguay,Israel,Bosnia and Herzegovina,Hungary,Singapore,Japan,Nigeria,Croatia,Norway,Thailand,Denmark,Bahamas, The,Greece,Moldova,Georgia,China,Czech Republic,Philippines,United States of America,Lithuania,Venezuela,Argentina,Vietnam,Slovakia,Bangladesh,Algeria,Pakistan,Afghanistan,Other,Brunei,Iran,Ecuador,Chile,Guatemala,Taiwan,Serbia,Estonia,Iceland,Indonesia,Jordan,Ukraine,Belarus,Turkey,-1,Mauritius,Saudi Arabia,Kenya,Ethiopia,Macedonia,Hong Kong,Ghana</td>\n",
       "    </tr>\n",
       "    <tr>\n",
       "      <th>3</th>\n",
       "      <td>If you live in the United States, which state or territory do you live in?</td>\n",
       "      <td>Illinois,Indiana,-1,Texas,Tennessee,Michigan,Ohio,California,Connecticut,Maryland,New York,North Carolina,Massachusetts,Iowa,Pennsylvania,Washington,Wisconsin,Utah,New Mexico,Oregon,Florida,Minnesota,Missouri,Arizona,Colorado,Georgia,DC,Nebraska,West Virginia,Oklahoma,Kansas,Virginia,New Hampshire,Kentucky,Alabama,Nevada,New Jersey,South Carolina,Vermont,South Dakota,Idaho,Mississippi,Rhode Island,Wyoming,Louisiana,Maine,North Dakota,District of Columbia,Montana,Alaska,Delaware</td>\n",
       "    </tr>\n",
       "    <tr>\n",
       "      <th>4</th>\n",
       "      <td>Are you self-employed?</td>\n",
       "      <td>-1,1,0</td>\n",
       "    </tr>\n",
       "    <tr>\n",
       "      <th>5</th>\n",
       "      <td>Do you have a family history of mental illness?</td>\n",
       "      <td>No,Yes,I don't know</td>\n",
       "    </tr>\n",
       "    <tr>\n",
       "      <th>6</th>\n",
       "      <td>Have you ever sought treatment for a mental health disorder from a mental health professional?</td>\n",
       "      <td>1,0</td>\n",
       "    </tr>\n",
       "    <tr>\n",
       "      <th>7</th>\n",
       "      <td>How many employees does your company or organization have?</td>\n",
       "      <td>6-25,More than 1000,26-100,100-500,1-5,500-1000,-1</td>\n",
       "    </tr>\n",
       "    <tr>\n",
       "      <th>8</th>\n",
       "      <td>Is your employer primarily a tech company/organization?</td>\n",
       "      <td>1,0,-1</td>\n",
       "    </tr>\n",
       "    <tr>\n",
       "      <th>9</th>\n",
       "      <td>Does your employer provide mental health benefits as part of healthcare coverage?</td>\n",
       "      <td>Yes,Don't know,No,Not eligible for coverage / NA,-1,I don't know</td>\n",
       "    </tr>\n",
       "  </tbody>\n",
       "</table>\n",
       "</div>"
      ],
      "text/plain": [
       "                                                                                     questiontext  \\\n",
       "0                                                                               What is your age?   \n",
       "1                                                                            What is your gender?   \n",
       "2                                                                    What country do you live in?   \n",
       "3                      If you live in the United States, which state or territory do you live in?   \n",
       "4                                                                          Are you self-employed?   \n",
       "5                                                 Do you have a family history of mental illness?   \n",
       "6  Have you ever sought treatment for a mental health disorder from a mental health professional?   \n",
       "7                                      How many employees does your company or organization have?   \n",
       "8                                         Is your employer primarily a tech company/organization?   \n",
       "9               Does your employer provide mental health benefits as part of healthcare coverage?   \n",
       "\n",
       "                                                                                                                                                                                                                                                                                                                                                                                                                                                                                                                                                                                                                                                                                                                                                                                                                                                                                                                                                                                                                                                                                                                                                                                                                                                                                                                                                                                                     UniqueAnswers  \n",
       "0                                                                                                                                                                                                                                                                                                                                                                                                                                                                                                                                                                                                                                                                                                                                                                                                                                                                                                                                                                                                                                                                                                                                                                                                                37,44,32,31,33,35,39,42,23,29,36,27,46,41,34,30,40,38,50,24,18,28,26,22,19,25,45,21,-29,43,56,60,54,329,55,-1,48,20,57,58,47,62,51,65,49,5,53,61,8,11,72,52,17,63,99,323,3,66,59,15,74,70,64,67,0  \n",
       "1  Female,Male,Male-ish,Trans-female,something kinda male?,queer/she/they,non-binary,Nah,All,Enby,fluid,Genderqueer,Androgyne,Agender,Guy (-ish) ^_^,male leaning androgynous,Trans woman,Neuter,Female (trans),queer,A little about you,p,ostensibly male, unsure what that really means,Bigender,Female assigned at birth,fm,Transitioned, M2F,Genderfluid (born female),Other/Transfeminine,Female or Multi-Gender Femme,Androgynous,male 9:1 female, roughly,-1,Other,nb masculine,none of your business,genderqueer,Human,Genderfluid,genderqueer woman,mtf,Queer,Fluid,Male/genderqueer,Nonbinary,human,Unicorn,Male (trans, FtM),Genderflux demi-girl,female-bodied; no feelings about gender,AFAB,Transgender woman,male,female,male/androgynous,uhhhhhhhhh fem genderqueer?,God King of the Valajar,Non-binary,Agender/genderfluid,sometimes,Woman-identified,Contextual,Non binary,Genderqueer demigirl,Genderqueer/non-binary,nonbinary,Female-ish,\\-,trans woman,Transfeminine,None,Ostensibly Male,MALE,Male (or female, or both),Trans man,transgender,non binary,Female/gender non-binary.,genderfluid,Demiguy,none,Trans female,She/her/they/them,SWM,NB,Nonbinary/femme,gender non-conforming woman,Masculine,Cishet male,Female-identified,agender,Questioning,I have a penis,rr,Agender trans woman,femmina,43,masculino,I am a Wookie,Trans non-binary/genderfluid,Non-binary and gender fluid  \n",
       "2                                                                                                                                                                                                                                                                                                                                                                                                                                                                                                                                                                                                                                                          United States,Canada,United Kingdom,Bulgaria,France,Portugal,Netherlands,Switzerland,Poland,Australia,Germany,Russia,Mexico,Brazil,Slovenia,Costa Rica,Austria,Ireland,India,South Africa,Italy,Sweden,Colombia,Latvia,Romania,Belgium,New Zealand,Zimbabwe,Spain,Finland,Uruguay,Israel,Bosnia and Herzegovina,Hungary,Singapore,Japan,Nigeria,Croatia,Norway,Thailand,Denmark,Bahamas, The,Greece,Moldova,Georgia,China,Czech Republic,Philippines,United States of America,Lithuania,Venezuela,Argentina,Vietnam,Slovakia,Bangladesh,Algeria,Pakistan,Afghanistan,Other,Brunei,Iran,Ecuador,Chile,Guatemala,Taiwan,Serbia,Estonia,Iceland,Indonesia,Jordan,Ukraine,Belarus,Turkey,-1,Mauritius,Saudi Arabia,Kenya,Ethiopia,Macedonia,Hong Kong,Ghana  \n",
       "3                                                                                                                                                                                                                                                                                                                                                                                                                                                                                                                                                                                                                                                                                                                                                                                                                                                                                                               Illinois,Indiana,-1,Texas,Tennessee,Michigan,Ohio,California,Connecticut,Maryland,New York,North Carolina,Massachusetts,Iowa,Pennsylvania,Washington,Wisconsin,Utah,New Mexico,Oregon,Florida,Minnesota,Missouri,Arizona,Colorado,Georgia,DC,Nebraska,West Virginia,Oklahoma,Kansas,Virginia,New Hampshire,Kentucky,Alabama,Nevada,New Jersey,South Carolina,Vermont,South Dakota,Idaho,Mississippi,Rhode Island,Wyoming,Louisiana,Maine,North Dakota,District of Columbia,Montana,Alaska,Delaware  \n",
       "4                                                                                                                                                                                                                                                                                                                                                                                                                                                                                                                                                                                                                                                                                                                                                                                                                                                                                                                                                                                                                                                                                                                                                                                                                                                                                                                                                                                                           -1,1,0  \n",
       "5                                                                                                                                                                                                                                                                                                                                                                                                                                                                                                                                                                                                                                                                                                                                                                                                                                                                                                                                                                                                                                                                                                                                                                                                                                                                                                                                                                                              No,Yes,I don't know  \n",
       "6                                                                                                                                                                                                                                                                                                                                                                                                                                                                                                                                                                                                                                                                                                                                                                                                                                                                                                                                                                                                                                                                                                                                                                                                                                                                                                                                                                                                              1,0  \n",
       "7                                                                                                                                                                                                                                                                                                                                                                                                                                                                                                                                                                                                                                                                                                                                                                                                                                                                                                                                                                                                                                                                                                                                                                                                                                                                                                                                                               6-25,More than 1000,26-100,100-500,1-5,500-1000,-1  \n",
       "8                                                                                                                                                                                                                                                                                                                                                                                                                                                                                                                                                                                                                                                                                                                                                                                                                                                                                                                                                                                                                                                                                                                                                                                                                                                                                                                                                                                                           1,0,-1  \n",
       "9                                                                                                                                                                                                                                                                                                                                                                                                                                                                                                                                                                                                                                                                                                                                                                                                                                                                                                                                                                                                                                                                                                                                                                                                                                                                                                                                                 Yes,Don't know,No,Not eligible for coverage / NA,-1,I don't know  "
      ]
     },
     "execution_count": 951,
     "metadata": {},
     "output_type": "execute_result"
    }
   ],
   "source": [
    "unique_answers = pd.read_sql('''\n",
    "SELECT q.questiontext, group_concat(distinct(a.AnswerText)) AS UniqueAnswers\n",
    "FROM `Answer` a\n",
    "FULL JOIN Question q ON a.QuestionID = q.questionid\n",
    "GROUP BY q.questionid; ''',con)\n",
    "\n",
    "unique_answers.head(10)"
   ]
  },
  {
   "cell_type": "markdown",
   "metadata": {},
   "source": [
    "Questions have various type of questions. Some questions are open text field for example country, age. Some are yes or no questions coded with 0 and 1, (-1 for missing values), some questions have scale from 0-10, other questions has several options to choose for example company size groups. From initial anaysis we found that age field was open text field, we will  clean those values to reflect possible numbers. Also gender looks like there are quite a few unique values. We will take a closer look to gender data."
   ]
  },
  {
   "cell_type": "markdown",
   "metadata": {},
   "source": [
    "#### Age. What unique answers there are in age question?\n"
   ]
  },
  {
   "cell_type": "code",
   "execution_count": 884,
   "metadata": {},
   "outputs": [
    {
     "name": "stdout",
     "output_type": "stream",
     "text": [
      "Unique age choices from the survey data ['37' '44' '32' '31' '33' '35' '39' '42' '23' '29' '36' '27' '46' '41'\n",
      " '34' '30' '40' '38' '50' '24' '18' '28' '26' '22' '19' '25' '45' '21'\n",
      " '-29' '43' '56' '60' '54' '329' '55' '-1' '48' '20' '57' '58' '47' '62'\n",
      " '51' '65' '49' '5' '53' '61' '8' '11' '72' '52' '17' '63' '99' '323' '3'\n",
      " '66' '59' '15' '74' '70' '64' '67' '0']\n"
     ]
    }
   ],
   "source": [
    "print(f\"Unique age choices from the survey data {answer_table[answer_table['QuestionID'] ==1]['AnswerText'].unique()}\")"
   ]
  },
  {
   "cell_type": "markdown",
   "metadata": {},
   "source": [
    "Age in survey has minimum value of -29 and maximum of 329. There are other less likely real data of 0 years and working in tech industry. To use valid data ages will be filtered in range from 18 to 80."
   ]
  },
  {
   "cell_type": "code",
   "execution_count": 910,
   "metadata": {},
   "outputs": [
    {
     "data": {
      "text/plain": [
       "array([37, 44, 32, 31, 33, 35, 39, 42, 23, 29, 36, 27, 46, 41, 34, 30, 40,\n",
       "       38, 50, 24, 18, 28, 26, 22, 19, 25, 45, 21, 43, 56, 60, 54, 55, 48,\n",
       "       20, 57, 58, 47, 62, 51, 65, 49, 53, 61, 72, 52, 63, 66, 59, 74, 70,\n",
       "       64, 67])"
      ]
     },
     "execution_count": 910,
     "metadata": {},
     "output_type": "execute_result"
    }
   ],
   "source": [
    "ages =  pd.read_sql('''\n",
    "                    SELECT SurveyID, UserID, CAST(AnswerText AS INTEGER) AS age\n",
    "                    FROM Answer\n",
    "                    WHERE QuestionID == 1 AND age BETWEEN 18 AND 80\n",
    "                 ; ''',con)\n",
    "ages['age'].unique()\n",
    "#SELECT CAST(age AS INTEGER) FROM users;\n",
    "#AND AnswerText BETWEEN 18 AND 80"
   ]
  },
  {
   "cell_type": "markdown",
   "metadata": {},
   "source": [
    "#### Gender answer cleaning\n",
    "Cleaning answers on question ID 2 What is your gender?\n",
    "How many unique answers was provided by respondents?"
   ]
  },
  {
   "cell_type": "code",
   "execution_count": 514,
   "metadata": {},
   "outputs": [
    {
     "name": "stdout",
     "output_type": "stream",
     "text": [
      "There are 101 unique gender answers: ['Female' 'Male' 'Male-ish' 'Trans-female' 'something kinda male?'\n",
      " 'queer/she/they' 'non-binary' 'Nah' 'All' 'Enby' 'fluid' 'Genderqueer'\n",
      " 'Androgyne' 'Agender' 'Guy (-ish) ^_^' 'male leaning androgynous'\n",
      " 'Trans woman' 'Neuter' 'Female (trans)' 'queer' 'A little about you' 'p'\n",
      " 'ostensibly male, unsure what that really means' 'Bigender'\n",
      " 'Female assigned at birth' 'fm' 'Transitioned, M2F'\n",
      " 'Genderfluid (born female)' 'Other/Transfeminine'\n",
      " 'Female or Multi-Gender Femme' 'Androgynous' 'male 9:1 female, roughly'\n",
      " '-1' 'Other' 'nb masculine' 'none of your business' 'genderqueer' 'Human'\n",
      " 'Genderfluid' 'genderqueer woman' 'mtf' 'Queer' 'Fluid'\n",
      " 'Male/genderqueer' 'Nonbinary' 'human' 'Unicorn' 'Male (trans, FtM)'\n",
      " 'Genderflux demi-girl' 'female-bodied; no feelings about gender' 'AFAB'\n",
      " 'Transgender woman' 'male' 'female' 'male/androgynous'\n",
      " 'uhhhhhhhhh fem genderqueer?' 'God King of the Valajar' 'Non-binary'\n",
      " 'Agender/genderfluid' 'sometimes' 'Woman-identified' 'Contextual'\n",
      " 'Non binary' 'Genderqueer demigirl' 'Genderqueer/non-binary' 'nonbinary'\n",
      " 'Female-ish' '\\\\-' 'trans woman' 'Transfeminine' 'None' 'Ostensibly Male'\n",
      " 'MALE' 'Male (or female, or both)' 'Trans man' 'transgender' 'non binary'\n",
      " 'Female/gender non-binary.' 'genderfluid' 'Demiguy' 'none' 'Trans female'\n",
      " 'She/her/they/them' 'SWM' 'NB' 'Nonbinary/femme'\n",
      " 'gender non-conforming woman' 'Masculine' 'Cishet male'\n",
      " 'Female-identified' 'agender' 'Questioning' 'I have a penis' 'rr'\n",
      " 'Agender trans woman' 'femmina' '43' 'masculino' 'I am a Wookie'\n",
      " 'Trans non-binary/genderfluid' 'Non-binary and gender fluid']\n"
     ]
    }
   ],
   "source": [
    "unique_gender_answer = answer_table[answer_table['QuestionID'] ==2]['AnswerText'].unique()\n",
    "\n",
    "print(f\"There are {len(unique_gender_answer)} unique gender answers: {unique_gender_answer}\")\n",
    "#answer_table[answer_table['QuestionID'] ==2]['AnswerText'].value_counts()"
   ]
  },
  {
   "cell_type": "markdown",
   "metadata": {},
   "source": [
    "There are 101 unique value for gender answers. Not sure about reasoning to have open text field for What is your gender? question but it got a bit wild and creative."
   ]
  },
  {
   "cell_type": "markdown",
   "metadata": {},
   "source": [
    "How many unique genders repeats in the answers?"
   ]
  },
  {
   "cell_type": "code",
   "execution_count": 515,
   "metadata": {},
   "outputs": [
    {
     "data": {
      "text/plain": [
       "AnswerText\n",
       "Male                           2830\n",
       "Female                          914\n",
       "male                            212\n",
       "female                          110\n",
       "-1                               24\n",
       "                               ... \n",
       "genderqueer                       1\n",
       "none of your business             1\n",
       "nb masculine                      1\n",
       "male 9:1 female, roughly          1\n",
       "Non-binary and gender fluid       1\n",
       "Name: count, Length: 101, dtype: int64"
      ]
     },
     "execution_count": 515,
     "metadata": {},
     "output_type": "execute_result"
    }
   ],
   "source": [
    "answer_table[answer_table['QuestionID'] ==2]['AnswerText'].value_counts()"
   ]
  },
  {
   "cell_type": "markdown",
   "metadata": {},
   "source": [
    "From 4215 unique respondents 4066 choose to write emale or male as their gender. Due to majority of answers for two values data will be updated to reflect answers as Male, Female and Other."
   ]
  },
  {
   "cell_type": "code",
   "execution_count": 933,
   "metadata": {},
   "outputs": [
    {
     "name": "stdout",
     "output_type": "stream",
     "text": [
      "Updated What is your gender? question ID 2 answers AnswerText\n",
      "male      3043\n",
      "female    1024\n",
      "other      151\n",
      "Name: count, dtype: int64\n"
     ]
    }
   ],
   "source": [
    "\n",
    "answer_table.loc[answer_table['QuestionID'] == 2, 'AnswerText'] = answer_table.loc[answer_table['QuestionID'] == 2, 'AnswerText'].replace({'MALE': 'male','Male': 'male', 'Female': 'female'}, regex=True)\n",
    "answer_table.loc[answer_table['QuestionID'] == 2, 'AnswerText'] = answer_table.loc[answer_table['QuestionID'] == 2, 'AnswerText'].replace({\"both\": ''}, regex=True)\n",
    "def contains_gender(answer):\n",
    "    return answer == \"male\" or answer == \"female\"\n",
    "answer_table.loc[answer_table['QuestionID'] == 2, 'AnswerText'] = answer_table.loc[answer_table['QuestionID'] == 2, 'AnswerText'].apply(lambda x: 'other' if not contains_gender(x) else x)\n",
    "\n",
    "gender_count = answer_table[answer_table['QuestionID'] ==2]['AnswerText'].value_counts()\n",
    "print(f\"Updated What is your gender? question ID 2 answers {gender_count}\")"
   ]
  },
  {
   "cell_type": "markdown",
   "metadata": {},
   "source": [
    "## Overview of the respondents\n",
    "\n"
   ]
  },
  {
   "cell_type": "markdown",
   "metadata": {},
   "source": [
    "### Sample size\n",
    "Sample size from all 5 year is 4218."
   ]
  },
  {
   "cell_type": "code",
   "execution_count": 956,
   "metadata": {},
   "outputs": [
    {
     "data": {
      "text/html": [
       "<div>\n",
       "<style scoped>\n",
       "    .dataframe tbody tr th:only-of-type {\n",
       "        vertical-align: middle;\n",
       "    }\n",
       "\n",
       "    .dataframe tbody tr th {\n",
       "        vertical-align: top;\n",
       "    }\n",
       "\n",
       "    .dataframe thead th {\n",
       "        text-align: right;\n",
       "    }\n",
       "</style>\n",
       "<table border=\"1\" class=\"dataframe\">\n",
       "  <thead>\n",
       "    <tr style=\"text-align: right;\">\n",
       "      <th></th>\n",
       "      <th>SurveyID</th>\n",
       "      <th>UniqueUsers</th>\n",
       "    </tr>\n",
       "  </thead>\n",
       "  <tbody>\n",
       "    <tr>\n",
       "      <th>0</th>\n",
       "      <td>2014</td>\n",
       "      <td>1260</td>\n",
       "    </tr>\n",
       "    <tr>\n",
       "      <th>1</th>\n",
       "      <td>2016</td>\n",
       "      <td>1433</td>\n",
       "    </tr>\n",
       "    <tr>\n",
       "      <th>2</th>\n",
       "      <td>2017</td>\n",
       "      <td>756</td>\n",
       "    </tr>\n",
       "    <tr>\n",
       "      <th>3</th>\n",
       "      <td>2018</td>\n",
       "      <td>417</td>\n",
       "    </tr>\n",
       "    <tr>\n",
       "      <th>4</th>\n",
       "      <td>2019</td>\n",
       "      <td>352</td>\n",
       "    </tr>\n",
       "  </tbody>\n",
       "</table>\n",
       "</div>"
      ],
      "text/plain": [
       "   SurveyID  UniqueUsers\n",
       "0      2014         1260\n",
       "1      2016         1433\n",
       "2      2017          756\n",
       "3      2018          417\n",
       "4      2019          352"
      ]
     },
     "execution_count": 956,
     "metadata": {},
     "output_type": "execute_result"
    }
   ],
   "source": [
    "sample_size_per_year = pd.read_sql('''\n",
    "SELECT SurveyID, COUNT(DISTINCT(UserID)) AS UniqueUsers\n",
    "FROM `Answer`\n",
    "GROUP BY 1 ; ''',con)\n",
    "#plt.plot(sample_size_per_year)\n",
    "sample_size_per_year\n"
   ]
  },
  {
   "cell_type": "code",
   "execution_count": 957,
   "metadata": {},
   "outputs": [
    {
     "name": "stdout",
     "output_type": "stream",
     "text": [
      "5 surveys has 4218 unique respondents.\n"
     ]
    }
   ],
   "source": [
    "print(f\"5 surveys has {sample_size_per_year['UniqueUsers'].sum()} unique respondents.\")"
   ]
  },
  {
   "cell_type": "markdown",
   "metadata": {},
   "source": [
    "How many respondents each early survey has?"
   ]
  },
  {
   "cell_type": "code",
   "execution_count": 518,
   "metadata": {},
   "outputs": [
    {
     "data": {
      "image/png": "[encoded data removed]",
      "text/plain": [
       "<Figure size 400x400 with 1 Axes>"
      ]
     },
     "metadata": {},
     "output_type": "display_data"
    }
   ],
   "source": [
    "plt.figure(figsize=(4, 4))\n",
    "plt.bar(sample_size_per_year['SurveyID'], sample_size_per_year['UniqueUsers'])\n",
    "\n",
    "plt.bar_label(plt.gca().containers[0])\n",
    "\n",
    "plt.title('Mental Health in IT/TECH industry Unique Participants per Survey')\n",
    "plt.xlabel('Year of Survey')\n",
    "plt.ylabel('Count of Unique Participants')\n",
    "plt.show()"
   ]
  },
  {
   "cell_type": "markdown",
   "metadata": {},
   "source": [
    "Figure contains 2014, 2016, 2017, 2018 and 2019 respondents per year. There is trend of lower amount of unque respondents from 2016. In 4 years respondents amount lower around 4 times. 2015 data was not included in the dataset. In the OSMI research page there are no explonation why survey was not shared for the 2015. In case you are interested you can see history and help to share your own views for the survey for 2024 https://osmhhelp.org/research.html. The 2024 survey will close on December 31st, 2024."
   ]
  },
  {
   "cell_type": "markdown",
   "metadata": {},
   "source": [
    "### Sociodemographic features"
   ]
  },
  {
   "cell_type": "markdown",
   "metadata": {},
   "source": [
    "#### Age\n",
    "What is average age of the respondents?\n",
    "Average age of respondents is 33.9. Ages choosen between 18 and 80. No negatives or hundreds included in average."
   ]
  },
  {
   "cell_type": "code",
   "execution_count": 913,
   "metadata": {},
   "outputs": [
    {
     "name": "stdout",
     "output_type": "stream",
     "text": [
      "Average respondent is 33.85982865302237 years old\n"
     ]
    }
   ],
   "source": [
    "\n",
    "print(f\"Average respondent is {ages['age'].mean()} years old\")"
   ]
  },
  {
   "cell_type": "markdown",
   "metadata": {},
   "source": [
    "What is distribution of the age in survey data?"
   ]
  },
  {
   "cell_type": "code",
   "execution_count": 914,
   "metadata": {},
   "outputs": [
    {
     "data": {
      "image/png": "[encoded data removed]",
      "text/plain": [
       "<Figure size 400x500 with 1 Axes>"
      ]
     },
     "metadata": {},
     "output_type": "display_data"
    }
   ],
   "source": [
    "\n",
    "age_to_plot = ages['age']\n",
    "\n",
    "plt.figure(figsize=(4, 5))\n",
    "plt.hist(age_to_plot, label ='Mental health in IT/Teach industry Survey ages histogram', bins=np.arange(age_to_plot.min(), age_to_plot.max()+1))\n",
    "\n",
    "plt.xlabel('Ages')\n",
    "plt.ylabel('Frequency of Ages')\n",
    "plt.title('Histogram of Ages from Mental Health in IT/Tech industry surveys 2014, 2016, 2017, 2018 and 2019')\n",
    "\n",
    "plt.show()\n"
   ]
  },
  {
   "cell_type": "markdown",
   "metadata": {},
   "source": [
    "The disribution of ages is a little right skewed with a center of about 33 years, a range of about 60 years(18 to 80).There might be outliers on the high end. Most of respondents belongs to work force in range of 27 to 35 years old."
   ]
  },
  {
   "cell_type": "markdown",
   "metadata": {},
   "source": [
    "#### Gender\n",
    "What genders proportionally participated in the survey?"
   ]
  },
  {
   "cell_type": "code",
   "execution_count": 946,
   "metadata": {},
   "outputs": [
    {
     "data": {
      "image/png": "[encoded data removed]",
      "text/plain": [
       "<Figure size 400x400 with 1 Axes>"
      ]
     },
     "metadata": {},
     "output_type": "display_data"
    }
   ],
   "source": [
    "\n",
    "plt.figure(figsize=(4, 4))\n",
    "plt.pie(gender_count, autopct='%1.1f%%', startangle=140)\n",
    "plt.legend(gender_count.index)\n",
    "plt.title('Distribution of genders in surveys')\n",
    "plt.show()"
   ]
  },
  {
   "cell_type": "markdown",
   "metadata": {},
   "source": [
    "In pie chart we can see that 72.1% respondents were male for all surveys. Other 3.5 % could be researched in future."
   ]
  },
  {
   "cell_type": "markdown",
   "metadata": {},
   "source": [
    "#### Country\n",
    "What country do you live in? Question ID 3"
   ]
  },
  {
   "cell_type": "markdown",
   "metadata": {},
   "source": [
    "United States of Amerika was replaced with United States. 5 TOP countries person lives in makes up to 83% of total unique respondents."
   ]
  },
  {
   "cell_type": "code",
   "execution_count": 358,
   "metadata": {},
   "outputs": [
    {
     "data": {
      "image/png": "[encoded data removed]",
      "text/plain": [
       "<Figure size 640x480 with 1 Axes>"
      ]
     },
     "metadata": {},
     "output_type": "display_data"
    }
   ],
   "source": [
    "answer_table.loc[answer_table['QuestionID'] == 3, 'AnswerText'] = answer_table.loc[answer_table['QuestionID'] == 3, 'AnswerText'].replace({\"United States of America\": 'United States'}, regex=True)\n",
    "country_living_counts = answer_table[answer_table['QuestionID'] ==3]['AnswerText'].value_counts()\n",
    "\n",
    "country_living_counts[:5].plot(kind='barh', ylabel = 'Country respondents live in', xlabel='Amount of respondents', title = \" 83 % of respondents live in TOP 5 countries\")\n",
    "\n",
    "plt.show()\n"
   ]
  },
  {
   "cell_type": "markdown",
   "metadata": {},
   "source": [
    "In what country average respondent lives in?\n",
    "Average respondent lives in United States. 62 % of total participants lives in United States. Second place United Kingdom has around 5 times less responses."
   ]
  },
  {
   "cell_type": "code",
   "execution_count": 365,
   "metadata": {},
   "outputs": [
    {
     "name": "stdout",
     "output_type": "stream",
     "text": [
      "Average respondents lives in AnswerText\n",
      "United States    0.617354\n",
      "Name: count, dtype: float64\n"
     ]
    }
   ],
   "source": [
    "print(f\"Most respondents lives in {country_living_counts[:1]/answer_table['UserID'].unique().max()}\")"
   ]
  },
  {
   "cell_type": "markdown",
   "metadata": {},
   "source": [
    "#### Race\n",
    "What is your race? QuestionID 89"
   ]
  },
  {
   "cell_type": "markdown",
   "metadata": {},
   "source": [
    "From data we can see question about race introduced in 2017. From all 4218 respondents we have 1525 answers about race. 537 of those respondents choose not to fill their race. "
   ]
  },
  {
   "cell_type": "code",
   "execution_count": 426,
   "metadata": {},
   "outputs": [
    {
     "data": {
      "text/html": [
       "<div>\n",
       "<style scoped>\n",
       "    .dataframe tbody tr th:only-of-type {\n",
       "        vertical-align: middle;\n",
       "    }\n",
       "\n",
       "    .dataframe tbody tr th {\n",
       "        vertical-align: top;\n",
       "    }\n",
       "\n",
       "    .dataframe thead th {\n",
       "        text-align: right;\n",
       "    }\n",
       "</style>\n",
       "<table border=\"1\" class=\"dataframe\">\n",
       "  <thead>\n",
       "    <tr style=\"text-align: right;\">\n",
       "      <th></th>\n",
       "      <th>SurveyID</th>\n",
       "      <th>AnswerCount</th>\n",
       "    </tr>\n",
       "  </thead>\n",
       "  <tbody>\n",
       "    <tr>\n",
       "      <th>0</th>\n",
       "      <td>2017</td>\n",
       "      <td>756</td>\n",
       "    </tr>\n",
       "    <tr>\n",
       "      <th>1</th>\n",
       "      <td>2018</td>\n",
       "      <td>417</td>\n",
       "    </tr>\n",
       "    <tr>\n",
       "      <th>2</th>\n",
       "      <td>2019</td>\n",
       "      <td>352</td>\n",
       "    </tr>\n",
       "    <tr>\n",
       "      <th>3</th>\n",
       "      <td>Total</td>\n",
       "      <td>1525</td>\n",
       "    </tr>\n",
       "  </tbody>\n",
       "</table>\n",
       "</div>"
      ],
      "text/plain": [
       "  SurveyID  AnswerCount\n",
       "0     2017          756\n",
       "1     2018          417\n",
       "2     2019          352\n",
       "3    Total         1525"
      ]
     },
     "execution_count": 426,
     "metadata": {},
     "output_type": "execute_result"
    }
   ],
   "source": [
    "query = ('''\n",
    "SELECT SurveyID, COUNT(AnswerText) AS AnswerCount\n",
    "FROM Answer\n",
    "WHERE QuestionID = 89\n",
    "GROUP BY SurveyID\n",
    "UNION ALL\n",
    "SELECT 'Total' AS SurveyID, SUM(COUNT(AnswerText)) OVER () AS TotalCount\n",
    "FROM Answer\n",
    "WHERE QuestionID = 89; ''')\n",
    "\n",
    "query_result = pd.read_sql(query, con)\n",
    "query_result\n"
   ]
  },
  {
   "cell_type": "code",
   "execution_count": 762,
   "metadata": {},
   "outputs": [
    {
     "data": {
      "image/png": "[encoded data removed]",
      "text/plain": [
       "<Figure size 640x480 with 1 Axes>"
      ]
     },
     "metadata": {},
     "output_type": "display_data"
    }
   ],
   "source": [
    "# What is your race? QuestionID89\n",
    "query = ('''\n",
    "SELECT AnswerText AS Race, COUNT(AnswerText) AS Respondents\n",
    "FROM Answer\n",
    "WHERE QuestionID = 89 AND AnswerText <> '-1'\n",
    "GROUP BY AnswerText\n",
    "ORDER BY Respondents DESC; ''')\n",
    "\n",
    "query_result = pd.read_sql(query, con)\n",
    "graph = sns.barplot(data=query_result, x='Respondents', y='Race', orient='h')\n",
    "graph.set_title('What is your race? QuestionID 89')\n",
    "graph.bar_label(graph.containers[0])\n",
    "plt.show()\n"
   ]
  },
  {
   "cell_type": "markdown",
   "metadata": {},
   "source": [
    "In the plot abow What is your race? QuestionID 89 we can see what more than 80% of respondents listed their race as white."
   ]
  },
  {
   "cell_type": "markdown",
   "metadata": {},
   "source": [
    "#### Remote work\n",
    "93 Do you work remotely (outside of an office) at least 50% of the time?\n",
    "118\tDo you work remotely?"
   ]
  },
  {
   "cell_type": "code",
   "execution_count": 494,
   "metadata": {},
   "outputs": [
    {
     "data": {
      "image/png": "[encoded data removed]",
      "text/plain": [
       "<Figure size 640x480 with 1 Axes>"
      ]
     },
     "metadata": {},
     "output_type": "display_data"
    }
   ],
   "source": [
    "\n",
    "# Do you work remotely ? QuestionID93 and QuestionID118\n",
    "pd.set_option('display.max_colwidth', None)\n",
    "query = ('''\n",
    "SELECT a.QuestionID, q.questiontext, a.`AnswerText`, COUNT(a.`AnswerText`) AS Answers, CAST(a.SurveyID AS TEXT) || ' - ' || q.questiontext AS YearQuestion\n",
    "FROM `Answer` a\n",
    "JOIN Question q ON q.questionid = a.QuestionID\n",
    "WHERE q.questiontext LIKE '%remote%'\n",
    "GROUP BY a.`AnswerText` \n",
    "ORDER BY a.QuestionID\n",
    "; ''')\n",
    "\n",
    "query_result = pd.read_sql(query, con)\n",
    "query_result\n",
    "\n",
    "graph = sns.barplot(data=query_result, x='Answers', y='AnswerText', orient='h', hue='YearQuestion')\n",
    "\n",
    "graph.set_title('Remote work')\n",
    "graph.bar_label(graph.containers[0])\n",
    "graph.bar_label(graph.containers[1])\n",
    "sns.move_legend(graph, \"best\", bbox_to_anchor=(1, -0.1))\n",
    "\n"
   ]
  },
  {
   "cell_type": "markdown",
   "metadata": {},
   "source": [
    "In the graph there are two questions about remote work from Surveys. \n",
    "Question ID 93 Do you work remotely (outside of an office) at least 50% of the time? was presented in the 2014 Survey. In 2024 most of the respondents was not working remotely. In 2016 sitaution became reversed with 4 times more working from home more than working from the office."
   ]
  },
  {
   "cell_type": "markdown",
   "metadata": {},
   "source": [
    "#### Average Respondent\n",
    "To sum up sociodemographic features from survey data average respondent is 34 year old living in United States works some time remotely, and is a white man. \n",
    "In the Survey research page there are no information about design of target population. This may lead to sample bias, due to research not designed to have proportioned data for the population. According to Forbes statistics data there are 36% females in tech industry, survey data has 24.3% females. White man working in tech according to Forbes is 11.5% lower than  suevey data and is equal to 68.5%(survey data 80% white man). https://www.forbes.com/advisor/education/it-and-tech/tech-industry-statistics-and-facts/"
   ]
  },
  {
   "cell_type": "markdown",
   "metadata": {},
   "source": [
    "## Prevalence of Mental health disorders"
   ]
  },
  {
   "cell_type": "markdown",
   "metadata": {},
   "source": [
    "Formula for prevalence rate: Prevalence(P) = (No. of existing cases of disease/total amount of respondents). 95% confidence interval will be calculated using standartized normal distirbution and prevalence rate. This method choosen due to having one number for prevalence in the survey data."
   ]
  },
  {
   "cell_type": "code",
   "execution_count": 578,
   "metadata": {},
   "outputs": [
    {
     "data": {
      "text/html": [
       "<div>\n",
       "<style scoped>\n",
       "    .dataframe tbody tr th:only-of-type {\n",
       "        vertical-align: middle;\n",
       "    }\n",
       "\n",
       "    .dataframe tbody tr th {\n",
       "        vertical-align: top;\n",
       "    }\n",
       "\n",
       "    .dataframe thead th {\n",
       "        text-align: right;\n",
       "    }\n",
       "</style>\n",
       "<table border=\"1\" class=\"dataframe\">\n",
       "  <thead>\n",
       "    <tr style=\"text-align: right;\">\n",
       "      <th></th>\n",
       "      <th>AnswerText</th>\n",
       "      <th>Respondents</th>\n",
       "      <th>Prevalence_Rate</th>\n",
       "      <th>Lower_bound</th>\n",
       "      <th>Upper_bound</th>\n",
       "    </tr>\n",
       "  </thead>\n",
       "  <tbody>\n",
       "    <tr>\n",
       "      <th>0</th>\n",
       "      <td>Mood Disorder (Depression, Bipolar Disorder, etc)</td>\n",
       "      <td>412</td>\n",
       "      <td>0.20</td>\n",
       "      <td>0.18</td>\n",
       "      <td>0.22</td>\n",
       "    </tr>\n",
       "    <tr>\n",
       "      <th>1</th>\n",
       "      <td>Anxiety Disorder (Generalized, Social, Phobia, etc)</td>\n",
       "      <td>345</td>\n",
       "      <td>0.17</td>\n",
       "      <td>0.15</td>\n",
       "      <td>0.19</td>\n",
       "    </tr>\n",
       "    <tr>\n",
       "      <th>2</th>\n",
       "      <td>Attention Deficit Hyperactivity Disorder</td>\n",
       "      <td>121</td>\n",
       "      <td>0.06</td>\n",
       "      <td>0.05</td>\n",
       "      <td>0.07</td>\n",
       "    </tr>\n",
       "  </tbody>\n",
       "</table>\n",
       "</div>"
      ],
      "text/plain": [
       "                                            AnswerText  Respondents  \\\n",
       "0    Mood Disorder (Depression, Bipolar Disorder, etc)          412   \n",
       "1  Anxiety Disorder (Generalized, Social, Phobia, etc)          345   \n",
       "2             Attention Deficit Hyperactivity Disorder          121   \n",
       "\n",
       "   Prevalence_Rate  Lower_bound  Upper_bound  \n",
       "0             0.20         0.18         0.22  \n",
       "1             0.17         0.15         0.19  \n",
       "2             0.06         0.05         0.07  "
      ]
     },
     "execution_count": 578,
     "metadata": {},
     "output_type": "execute_result"
    }
   ],
   "source": [
    "\n",
    "query = ('''\n",
    "SELECT t1.AnswerText,\n",
    "         t1.Respondents,\n",
    "  t1.P AS Prevalence_Rate,\n",
    "  ROUND(t1.P-1.96*SQRT((t1.P*(1-t1.P))/ t1.total_count),2) AS Lower_bound,\n",
    "  ROUND(t1.P+1.96*SQRT((t1.P*(1-t1.P))/ t1.total_count),2) AS Upper_bound \n",
    "  FROM\n",
    "(SELECT AnswerText,\n",
    "  COUNT(AnswerText) AS Respondents, \n",
    "  SUM(COUNT(AnswerText)) OVER() AS total_count,\n",
    "  ROUND(CAST(COUNT(AnswerText) AS FLOAT) / CAST(SUM(COUNT(AnswerText)) OVER() AS FLOAT),2) AS P\n",
    "FROM Answer\n",
    "WHERE QuestionID = 115\n",
    "GROUP BY AnswerText\n",
    "ORDER BY Respondents DESC\n",
    "LIMIT 3 OFFSET 1) as t1 ''')\n",
    "\n",
    "query_result = pd.read_sql(query, con)\n",
    "query_result\n",
    "\n"
   ]
  },
  {
   "cell_type": "code",
   "execution_count": 575,
   "metadata": {},
   "outputs": [
    {
     "data": {
      "text/plain": [
       "([<matplotlib.axis.XTick at 0x1e0d201e6f0>,\n",
       "  <matplotlib.axis.XTick at 0x1e0d201d280>,\n",
       "  <matplotlib.axis.XTick at 0x1e0d49933e0>],\n",
       " [Text(0, 0, 'Mood Disorder'),\n",
       "  Text(1, 0, 'Anxiety Disorder'),\n",
       "  Text(2, 0, 'ADHD')])"
      ]
     },
     "execution_count": 575,
     "metadata": {},
     "output_type": "execute_result"
    },
    {
     "data": {
      "image/png": "[encoded data removed]",
      "text/plain": [
       "<Figure size 640x480 with 1 Axes>"
      ]
     },
     "metadata": {},
     "output_type": "display_data"
    }
   ],
   "source": [
    "ci_lower =  query_result['Lower_bound']\n",
    "ci_upper = query_result['Upper_bound']\n",
    "\n",
    "plt.errorbar(x=query_result['AnswerText'], y=query_result['Prevalence_Rate'], yerr=[ci_lower,ci_upper], capsize=3, \n",
    "\tfmt='b--o')\n",
    "\n",
    "plt.title('Mental disease Prevalence rate with confident intervals in IT/Teach industry' )\n",
    "plt.xlabel('Disease')\n",
    "plt.ylabel('Prevalence rate')\n",
    "plt.xticks([0, 1, 2], ['Mood Disorder', 'Anxiety Disorder','ADHD'])"
   ]
  },
  {
   "cell_type": "markdown",
   "metadata": {},
   "source": [
    "Graph shows prevalence rate of diagnosed mental disease in population of the survey. Mood disorder has highest rate of 0.2 with 95% confidence interval moving 0.2. 20 percent of respondents has been diagnosed with mood disorder. Same confidence interval is for anxiety disorder with prevelance rate of 0.17. \n",
    "TOP 3 diseases diagnosed sums up to 43 % of respondents."
   ]
  },
  {
   "cell_type": "markdown",
   "metadata": {},
   "source": [
    "## Feature analysis"
   ]
  },
  {
   "cell_type": "markdown",
   "metadata": {},
   "source": [
    "#### Questions selection"
   ]
  },
  {
   "cell_type": "markdown",
   "metadata": {},
   "source": [
    "Let's compare several features(questions) for female and male respondents as well as diagnosed with mental heald disorder.\n",
    "Survey has more than 100 questions. At this time to get into more details we choose to select year with majority of the same questions used. In 2017, 2018 and 2019 was used 76 same questions."
   ]
  },
  {
   "cell_type": "code",
   "execution_count": 622,
   "metadata": {},
   "outputs": [
    {
     "data": {
      "text/html": [
       "<div>\n",
       "<style scoped>\n",
       "    .dataframe tbody tr th:only-of-type {\n",
       "        vertical-align: middle;\n",
       "    }\n",
       "\n",
       "    .dataframe tbody tr th {\n",
       "        vertical-align: top;\n",
       "    }\n",
       "\n",
       "    .dataframe thead th {\n",
       "        text-align: right;\n",
       "    }\n",
       "</style>\n",
       "<table border=\"1\" class=\"dataframe\">\n",
       "  <thead>\n",
       "    <tr style=\"text-align: right;\">\n",
       "      <th></th>\n",
       "      <th>Questions(same) amount used in 2017, 2018, 2019 surveys</th>\n",
       "    </tr>\n",
       "  </thead>\n",
       "  <tbody>\n",
       "    <tr>\n",
       "      <th>0</th>\n",
       "      <td>76</td>\n",
       "    </tr>\n",
       "  </tbody>\n",
       "</table>\n",
       "</div>"
      ],
      "text/plain": [
       "   Questions(same) amount used in 2017, 2018, 2019 surveys\n",
       "0                                                       76"
      ]
     },
     "execution_count": 622,
     "metadata": {},
     "output_type": "execute_result"
    }
   ],
   "source": [
    "query = ('''\n",
    "          SELECT COUNT(distinct(q.questionid)) AS 'Questions(same) amount used in 2017, 2018, 2019 surveys'\n",
    "FROM `Answer` a\n",
    "  FULL JOIN Question q ON a.QuestionID = q.questionid\n",
    "      WHERE a.SurveyID IN (2017, 2018, 2019); ''')\n",
    "\n",
    "questions_76 = pd.read_sql(query, con)\n",
    "questions_76\n"
   ]
  },
  {
   "cell_type": "markdown",
   "metadata": {},
   "source": [
    "Questions for initial analysis choosen based on people with mental disease in the past and current, gender, company size, knowing about company health coverage and discussion about mental health in workplace. Questions provided below.\n"
   ]
  },
  {
   "cell_type": "code",
   "execution_count": 953,
   "metadata": {},
   "outputs": [
    {
     "data": {
      "text/html": [
       "<div>\n",
       "<style scoped>\n",
       "    .dataframe tbody tr th:only-of-type {\n",
       "        vertical-align: middle;\n",
       "    }\n",
       "\n",
       "    .dataframe tbody tr th {\n",
       "        vertical-align: top;\n",
       "    }\n",
       "\n",
       "    .dataframe thead th {\n",
       "        text-align: right;\n",
       "    }\n",
       "</style>\n",
       "<table border=\"1\" class=\"dataframe\">\n",
       "  <thead>\n",
       "    <tr style=\"text-align: right;\">\n",
       "      <th></th>\n",
       "      <th>questionid</th>\n",
       "      <th>questiontext</th>\n",
       "    </tr>\n",
       "  </thead>\n",
       "  <tbody>\n",
       "    <tr>\n",
       "      <th>0</th>\n",
       "      <td>2</td>\n",
       "      <td>What is your gender?</td>\n",
       "    </tr>\n",
       "    <tr>\n",
       "      <th>1</th>\n",
       "      <td>6</td>\n",
       "      <td>Do you have a family history of mental illness?</td>\n",
       "    </tr>\n",
       "    <tr>\n",
       "      <th>2</th>\n",
       "      <td>7</td>\n",
       "      <td>Have you ever sought treatment for a mental health disorder from a mental health professional?</td>\n",
       "    </tr>\n",
       "    <tr>\n",
       "      <th>3</th>\n",
       "      <td>8</td>\n",
       "      <td>How many employees does your company or organization have?</td>\n",
       "    </tr>\n",
       "    <tr>\n",
       "      <th>4</th>\n",
       "      <td>14</td>\n",
       "      <td>Do you know the options for mental health care available under your employer-provided health coverage?</td>\n",
       "    </tr>\n",
       "    <tr>\n",
       "      <th>5</th>\n",
       "      <td>32</td>\n",
       "      <td>Have you had a mental health disorder in the past?</td>\n",
       "    </tr>\n",
       "    <tr>\n",
       "      <th>6</th>\n",
       "      <td>33</td>\n",
       "      <td>Do you currently have a mental health disorder?</td>\n",
       "    </tr>\n",
       "    <tr>\n",
       "      <th>7</th>\n",
       "      <td>58</td>\n",
       "      <td>Have you ever discussed your mental health with your employer?</td>\n",
       "    </tr>\n",
       "    <tr>\n",
       "      <th>8</th>\n",
       "      <td>60</td>\n",
       "      <td>Have you ever discussed your mental health with coworkers?</td>\n",
       "    </tr>\n",
       "    <tr>\n",
       "      <th>9</th>\n",
       "      <td>70</td>\n",
       "      <td>Did you ever discuss your mental health with your previous employer?</td>\n",
       "    </tr>\n",
       "    <tr>\n",
       "      <th>10</th>\n",
       "      <td>72</td>\n",
       "      <td>Did you ever discuss your mental health with a previous coworker(s)?</td>\n",
       "    </tr>\n",
       "  </tbody>\n",
       "</table>\n",
       "</div>"
      ],
      "text/plain": [
       "    questionid  \\\n",
       "0            2   \n",
       "1            6   \n",
       "2            7   \n",
       "3            8   \n",
       "4           14   \n",
       "5           32   \n",
       "6           33   \n",
       "7           58   \n",
       "8           60   \n",
       "9           70   \n",
       "10          72   \n",
       "\n",
       "                                                                                              questiontext  \n",
       "0                                                                                     What is your gender?  \n",
       "1                                                          Do you have a family history of mental illness?  \n",
       "2           Have you ever sought treatment for a mental health disorder from a mental health professional?  \n",
       "3                                               How many employees does your company or organization have?  \n",
       "4   Do you know the options for mental health care available under your employer-provided health coverage?  \n",
       "5                                                       Have you had a mental health disorder in the past?  \n",
       "6                                                          Do you currently have a mental health disorder?  \n",
       "7                                           Have you ever discussed your mental health with your employer?  \n",
       "8                                               Have you ever discussed your mental health with coworkers?  \n",
       "9                                     Did you ever discuss your mental health with your previous employer?  \n",
       "10                                    Did you ever discuss your mental health with a previous coworker(s)?  "
      ]
     },
     "execution_count": 953,
     "metadata": {},
     "output_type": "execute_result"
    }
   ],
   "source": [
    "query = ('''\n",
    "   SELECT questionid, questiontext\n",
    "FROM Question\n",
    "      WHERE questionid IN( 2, 6, 7, 8, 14, 32, 33, 58, 60, 70, 72) ''')\n",
    "\n",
    "query_result = pd.read_sql(query, con)\n",
    "query_result"
   ]
  },
  {
   "cell_type": "markdown",
   "metadata": {},
   "source": [
    "#### Data frame loading\n",
    "Filter relevant year and question ids to make a pivot table for analysis."
   ]
  },
  {
   "cell_type": "code",
   "execution_count": 638,
   "metadata": {},
   "outputs": [
    {
     "name": "stderr",
     "output_type": "stream",
     "text": [
      "C:\\Users\\Greta Prekerienė\\AppData\\Local\\Temp\\ipykernel_14316\\2151404029.py:4: UserWarning: Boolean Series key will be reindexed to match DataFrame index.\n",
      "  filtered_answer_table_questions = filtered_answer_table_year[answer_table['QuestionID'].isin(question_filter)]\n"
     ]
    },
    {
     "data": {
      "text/html": [
       "<div>\n",
       "<style scoped>\n",
       "    .dataframe tbody tr th:only-of-type {\n",
       "        vertical-align: middle;\n",
       "    }\n",
       "\n",
       "    .dataframe tbody tr th {\n",
       "        vertical-align: top;\n",
       "    }\n",
       "\n",
       "    .dataframe thead th {\n",
       "        text-align: right;\n",
       "    }\n",
       "</style>\n",
       "<table border=\"1\" class=\"dataframe\">\n",
       "  <thead>\n",
       "    <tr style=\"text-align: right;\">\n",
       "      <th>QuestionID</th>\n",
       "      <th>2</th>\n",
       "      <th>6</th>\n",
       "      <th>7</th>\n",
       "      <th>8</th>\n",
       "      <th>14</th>\n",
       "      <th>32</th>\n",
       "      <th>33</th>\n",
       "      <th>58</th>\n",
       "      <th>60</th>\n",
       "      <th>70</th>\n",
       "      <th>72</th>\n",
       "    </tr>\n",
       "    <tr>\n",
       "      <th>UserID</th>\n",
       "      <th></th>\n",
       "      <th></th>\n",
       "      <th></th>\n",
       "      <th></th>\n",
       "      <th></th>\n",
       "      <th></th>\n",
       "      <th></th>\n",
       "      <th></th>\n",
       "      <th></th>\n",
       "      <th></th>\n",
       "      <th></th>\n",
       "    </tr>\n",
       "  </thead>\n",
       "  <tbody>\n",
       "    <tr>\n",
       "      <th>2694</th>\n",
       "      <td>female</td>\n",
       "      <td>No</td>\n",
       "      <td>1</td>\n",
       "      <td>100-500</td>\n",
       "      <td>Yes</td>\n",
       "      <td>Possibly</td>\n",
       "      <td>Possibly</td>\n",
       "      <td>0</td>\n",
       "      <td>1</td>\n",
       "      <td>0</td>\n",
       "      <td>0</td>\n",
       "    </tr>\n",
       "    <tr>\n",
       "      <th>2695</th>\n",
       "      <td>male</td>\n",
       "      <td>No</td>\n",
       "      <td>0</td>\n",
       "      <td>100-500</td>\n",
       "      <td>Yes</td>\n",
       "      <td>Possibly</td>\n",
       "      <td>Possibly</td>\n",
       "      <td>0</td>\n",
       "      <td>1</td>\n",
       "      <td>0</td>\n",
       "      <td>1</td>\n",
       "    </tr>\n",
       "    <tr>\n",
       "      <th>2696</th>\n",
       "      <td>male</td>\n",
       "      <td>Yes</td>\n",
       "      <td>1</td>\n",
       "      <td>6-25</td>\n",
       "      <td>No</td>\n",
       "      <td>Yes</td>\n",
       "      <td>Yes</td>\n",
       "      <td>1</td>\n",
       "      <td>1</td>\n",
       "      <td>0</td>\n",
       "      <td>1</td>\n",
       "    </tr>\n",
       "    <tr>\n",
       "      <th>2697</th>\n",
       "      <td>male</td>\n",
       "      <td>I don't know</td>\n",
       "      <td>1</td>\n",
       "      <td>More than 1000</td>\n",
       "      <td>Yes</td>\n",
       "      <td>No</td>\n",
       "      <td>Yes</td>\n",
       "      <td>1</td>\n",
       "      <td>1</td>\n",
       "      <td>-1</td>\n",
       "      <td>-1</td>\n",
       "    </tr>\n",
       "    <tr>\n",
       "      <th>2698</th>\n",
       "      <td>female</td>\n",
       "      <td>Yes</td>\n",
       "      <td>1</td>\n",
       "      <td>-1</td>\n",
       "      <td>-1</td>\n",
       "      <td>Yes</td>\n",
       "      <td>No</td>\n",
       "      <td>-1</td>\n",
       "      <td>-1</td>\n",
       "      <td>0</td>\n",
       "      <td>1</td>\n",
       "    </tr>\n",
       "    <tr>\n",
       "      <th>...</th>\n",
       "      <td>...</td>\n",
       "      <td>...</td>\n",
       "      <td>...</td>\n",
       "      <td>...</td>\n",
       "      <td>...</td>\n",
       "      <td>...</td>\n",
       "      <td>...</td>\n",
       "      <td>...</td>\n",
       "      <td>...</td>\n",
       "      <td>...</td>\n",
       "      <td>...</td>\n",
       "    </tr>\n",
       "    <tr>\n",
       "      <th>4214</th>\n",
       "      <td>male</td>\n",
       "      <td>No</td>\n",
       "      <td>0</td>\n",
       "      <td>More than 1000</td>\n",
       "      <td>No</td>\n",
       "      <td>No</td>\n",
       "      <td>Possibly</td>\n",
       "      <td>0</td>\n",
       "      <td>0</td>\n",
       "      <td>0</td>\n",
       "      <td>0</td>\n",
       "    </tr>\n",
       "    <tr>\n",
       "      <th>4215</th>\n",
       "      <td>male</td>\n",
       "      <td>No</td>\n",
       "      <td>0</td>\n",
       "      <td>-1</td>\n",
       "      <td>-1</td>\n",
       "      <td>No</td>\n",
       "      <td>No</td>\n",
       "      <td>-1</td>\n",
       "      <td>-1</td>\n",
       "      <td>0</td>\n",
       "      <td>0</td>\n",
       "    </tr>\n",
       "    <tr>\n",
       "      <th>4216</th>\n",
       "      <td>male</td>\n",
       "      <td>No</td>\n",
       "      <td>0</td>\n",
       "      <td>-1</td>\n",
       "      <td>-1</td>\n",
       "      <td>No</td>\n",
       "      <td>No</td>\n",
       "      <td>-1</td>\n",
       "      <td>-1</td>\n",
       "      <td>-1</td>\n",
       "      <td>-1</td>\n",
       "    </tr>\n",
       "    <tr>\n",
       "      <th>4217</th>\n",
       "      <td>female</td>\n",
       "      <td>No</td>\n",
       "      <td>0</td>\n",
       "      <td>More than 1000</td>\n",
       "      <td>No</td>\n",
       "      <td>No</td>\n",
       "      <td>Possibly</td>\n",
       "      <td>0</td>\n",
       "      <td>0</td>\n",
       "      <td>0</td>\n",
       "      <td>0</td>\n",
       "    </tr>\n",
       "    <tr>\n",
       "      <th>4218</th>\n",
       "      <td>female</td>\n",
       "      <td>Yes</td>\n",
       "      <td>1</td>\n",
       "      <td>More than 1000</td>\n",
       "      <td>Yes</td>\n",
       "      <td>Yes</td>\n",
       "      <td>Yes</td>\n",
       "      <td>1</td>\n",
       "      <td>1</td>\n",
       "      <td>0</td>\n",
       "      <td>1</td>\n",
       "    </tr>\n",
       "  </tbody>\n",
       "</table>\n",
       "<p>1525 rows × 11 columns</p>\n",
       "</div>"
      ],
      "text/plain": [
       "QuestionID      2             6  7               8    14        32        33  \\\n",
       "UserID                                                                         \n",
       "2694        female            No  1         100-500  Yes  Possibly  Possibly   \n",
       "2695          male            No  0         100-500  Yes  Possibly  Possibly   \n",
       "2696          male           Yes  1            6-25   No       Yes       Yes   \n",
       "2697          male  I don't know  1  More than 1000  Yes        No       Yes   \n",
       "2698        female           Yes  1              -1   -1       Yes        No   \n",
       "...            ...           ... ..             ...  ...       ...       ...   \n",
       "4214          male            No  0  More than 1000   No        No  Possibly   \n",
       "4215          male            No  0              -1   -1        No        No   \n",
       "4216          male            No  0              -1   -1        No        No   \n",
       "4217        female            No  0  More than 1000   No        No  Possibly   \n",
       "4218        female           Yes  1  More than 1000  Yes       Yes       Yes   \n",
       "\n",
       "QuestionID  58  60  70  72  \n",
       "UserID                      \n",
       "2694         0   1   0   0  \n",
       "2695         0   1   0   1  \n",
       "2696         1   1   0   1  \n",
       "2697         1   1  -1  -1  \n",
       "2698        -1  -1   0   1  \n",
       "...         ..  ..  ..  ..  \n",
       "4214         0   0   0   0  \n",
       "4215        -1  -1   0   0  \n",
       "4216        -1  -1  -1  -1  \n",
       "4217         0   0   0   0  \n",
       "4218         1   1   0   1  \n",
       "\n",
       "[1525 rows x 11 columns]"
      ]
     },
     "execution_count": 638,
     "metadata": {},
     "output_type": "execute_result"
    }
   ],
   "source": [
    "\n",
    "year_filter = (2017, 2018, 2019)\n",
    "question_filter = (2, 6, 7, 8, 14, 32, 33, 58, 60, 70, 72)\n",
    "filtered_answer_table_year = answer_table[answer_table['SurveyID'].isin(year_filter)]\n",
    "filtered_answer_table_questions = filtered_answer_table_year[answer_table['QuestionID'].isin(question_filter)]\n",
    "\n",
    "pivot_table = filtered_answer_table_questions.pivot_table(index='UserID', columns='QuestionID', values='AnswerText', aggfunc=lambda x: ' '.join(x))\n",
    "\n",
    "pivot_table\n"
   ]
  },
  {
   "cell_type": "markdown",
   "metadata": {},
   "source": [
    "#### Females and males feature comparrison"
   ]
  },
  {
   "cell_type": "markdown",
   "metadata": {},
   "source": [
    "How different is past and current mental order diagnosed diseases for male gender?"
   ]
  },
  {
   "cell_type": "code",
   "execution_count": 775,
   "metadata": {},
   "outputs": [
    {
     "data": {
      "image/png": "[encoded data removed]",
      "text/plain": [
       "<Figure size 800x500 with 1 Axes>"
      ]
     },
     "metadata": {},
     "output_type": "display_data"
    }
   ],
   "source": [
    "\n",
    "male = pivot_table[pivot_table[2] == 'male']\n",
    "data_to_plot1 = male[33].value_counts(normalize=True)\n",
    "data_to_plot2 = male[32].value_counts(normalize=True)\n",
    "\n",
    "plt.figure(figsize=(8, 5))\n",
    "data_to_plot1.plot( kind='line', label ='33 Currently have a mental disorder',marker='o', linestyle='none')\n",
    "data_to_plot2.plot( kind='line', color='green',label ='32 In the past had a mental disorder',marker='*', linestyle='none')\n",
    "\n",
    "plt.ylabel(\"Rate\")\n",
    "plt.title(\"Male currently and in the past diagnosed with mental health disorder\")\n",
    "\n",
    "plt.legend()\n",
    "plt.show()"
   ]
  },
  {
   "cell_type": "markdown",
   "metadata": {},
   "source": [
    "From the graph of past and current male gender diagnosed mental disorder we get similar results. Similar percentage of population who had mental disease has one at the time of the survey.\n",
    "For Yes past diseases is a littile bit higher, this may show what some of the people got better. But we have reverse situation for a NO answer, this indicates some got a new diagnosis. \n",
    "Last star in the graph shows missing values for this question."
   ]
  },
  {
   "cell_type": "markdown",
   "metadata": {},
   "source": [
    "Do more females than males had mental disorder in the past?"
   ]
  },
  {
   "cell_type": "code",
   "execution_count": 812,
   "metadata": {},
   "outputs": [
    {
     "data": {
      "image/png": "[encoded data removed]",
      "text/plain": [
       "<Figure size 800x500 with 1 Axes>"
      ]
     },
     "metadata": {},
     "output_type": "display_data"
    }
   ],
   "source": [
    "\n",
    "female= pivot_table[pivot_table[2] == 'female']\n",
    "data_to_plot1 = female[33].value_counts(normalize=True)\n",
    "data_to_plot2 = female[32].value_counts(normalize=True)\n",
    "\n",
    "plt.figure(figsize=(8, 5))\n",
    "data_to_plot1.plot( kind='line', color='orange', label ='33 Currently have a mental disorder',marker='o', linestyle='none')\n",
    "data_to_plot2.plot( kind='line', color='red', label ='32 In the past had a mental disorder',marker='*', linestyle='none')\n",
    "\n",
    "plt.ylabel(\"Rate\")\n",
    "plt.title(\"Female currently and in the past diagnosed with mental health disorder\")\n",
    "plt.legend()\n",
    "plt.show()"
   ]
  },
  {
   "cell_type": "markdown",
   "metadata": {},
   "source": [
    "Do more female had mental disorder in the past? Answer is slightly yes. Past and at the moment of filling survey there are no big difference. More than 50% of females had in the past and still has mental disorders.\n",
    "In comparrison with male female reports more than 20% with mental disorder cases in the survey."
   ]
  },
  {
   "cell_type": "code",
   "execution_count": 816,
   "metadata": {},
   "outputs": [],
   "source": [
    "\n",
    "def male_female_comparrison(question_number):\n",
    "    female= pivot_table[pivot_table[2] == 'female']\n",
    "    male= pivot_table[pivot_table[2] == 'male']\n",
    "\n",
    "    question_name = question_table['questiontext'][question_table['questionid']==question_number].to_string(index=False)\n",
    "\n",
    "    print(f\" Female answers for question {question_name} {female[question_number].value_counts(normalize=True).mul(100).round(1).astype(str) + '%'}\")\n",
    "    print(f\" Male answers for question {question_name} {male[question_number].value_counts(normalize=True).mul(100).round(1).astype(str) + '%'}\")\n"
   ]
  },
  {
   "cell_type": "markdown",
   "metadata": {},
   "source": [
    "Do more females has a family history of mental illness?"
   ]
  },
  {
   "cell_type": "code",
   "execution_count": 819,
   "metadata": {},
   "outputs": [
    {
     "name": "stdout",
     "output_type": "stream",
     "text": [
      " Female answers for question Do you have a family history of mental illness? 6\n",
      "Yes             58.0%\n",
      "I don't know    22.0%\n",
      "No              20.0%\n",
      "Name: proportion, dtype: object\n",
      " Male answers for question Do you have a family history of mental illness? 6\n",
      "Yes             40.2%\n",
      "No              34.2%\n",
      "I don't know    25.6%\n",
      "Name: proportion, dtype: object\n"
     ]
    }
   ],
   "source": [
    "male_female_comparrison(6)"
   ]
  },
  {
   "cell_type": "markdown",
   "metadata": {},
   "source": [
    "Yes, 18% more female than male has history of family mental illness. Not being sure about family mental health history precentage for male and female are similar 25.6% and 22 % accordingly. Quarter of respondents of not knowing could impact data proportions."
   ]
  },
  {
   "cell_type": "markdown",
   "metadata": {},
   "source": [
    "Do more females seek professional treatment for a mental health disorder?"
   ]
  },
  {
   "cell_type": "code",
   "execution_count": 820,
   "metadata": {},
   "outputs": [
    {
     "name": "stdout",
     "output_type": "stream",
     "text": [
      " Female answers for question Have you ever sought treatment for a mental health disorder from a mental health professional? 7\n",
      "1    73.7%\n",
      "0    26.3%\n",
      "Name: proportion, dtype: object\n",
      " Male answers for question Have you ever sought treatment for a mental health disorder from a mental health professional? 7\n",
      "1    55.2%\n",
      "0    44.8%\n",
      "Name: proportion, dtype: object\n"
     ]
    }
   ],
   "source": [
    "male_female_comparrison(7)"
   ]
  },
  {
   "cell_type": "markdown",
   "metadata": {},
   "source": [
    "Yes, near 20% more female seek help from mental health professionals. Same proportion of 20% as we saw in the diagnosed cases."
   ]
  },
  {
   "cell_type": "markdown",
   "metadata": {},
   "source": [
    "Do more females knows options for mental health care coverage from employer?"
   ]
  },
  {
   "cell_type": "code",
   "execution_count": 823,
   "metadata": {},
   "outputs": [
    {
     "name": "stdout",
     "output_type": "stream",
     "text": [
      " Female answers for question Do you know the options for mental health care available under your employer-provided health coverage? 14\n",
      "Yes    44.2%\n",
      "No     37.6%\n",
      "-1     18.1%\n",
      "Name: proportion, dtype: object\n",
      " Male answers for question Do you know the options for mental health care available under your employer-provided health coverage? 14\n",
      "No     42.6%\n",
      "Yes    33.3%\n",
      "-1     24.1%\n",
      "Name: proportion, dtype: object\n"
     ]
    }
   ],
   "source": [
    "male_female_comparrison(14)"
   ]
  },
  {
   "cell_type": "markdown",
   "metadata": {},
   "source": [
    "Yes, about 10 % more female knows about employer-provided health coverage. Around 37% of male has a diagnosed mental health disorder"
   ]
  },
  {
   "cell_type": "markdown",
   "metadata": {},
   "source": [
    "#### Having a mental health disorder feature comparrison"
   ]
  },
  {
   "cell_type": "code",
   "execution_count": 843,
   "metadata": {},
   "outputs": [],
   "source": [
    "def sick_female_male_comparrison(question_number):\n",
    "    sick_now_female= pivot_table[(pivot_table[33] == 'Yes') & (pivot_table[2] == 'female')]\n",
    "    sick_now_male= pivot_table[(pivot_table[33] == 'Yes') & (pivot_table[2] == 'male')]\n",
    "    compare1 = sick_now_female\n",
    "    compare2 = sick_now_male\n",
    "\n",
    "    question_name = question_table['questiontext'][question_table['questionid']==question_number].to_string(index=False)\n",
    "\n",
    "    print(f\" Female having current illness answers for question {question_name} {compare1[question_number].value_counts(normalize=True).mul(100).round(1).astype(str) + '%'}\")\n",
    "    print(f\" Male having current illness answers for question {question_name} {compare2[question_number].value_counts(normalize=True).mul(100).round(1).astype(str) + '%'}\")\n"
   ]
  },
  {
   "cell_type": "markdown",
   "metadata": {},
   "source": [
    "In what size companies male and female with mental health disorder works?"
   ]
  },
  {
   "cell_type": "code",
   "execution_count": 845,
   "metadata": {},
   "outputs": [
    {
     "name": "stdout",
     "output_type": "stream",
     "text": [
      " Female having current illness answers for question How many employees does your company or organization have? 8\n",
      "More than 1000    29.1%\n",
      "100-500           25.0%\n",
      "26-100            14.3%\n",
      "-1                11.5%\n",
      "6-25              10.2%\n",
      "500-1000           8.2%\n",
      "1-5                1.6%\n",
      "Name: proportion, dtype: object\n",
      " Male having current illness answers for question How many employees does your company or organization have? 8\n",
      "More than 1000    27.7%\n",
      "100-500           25.0%\n",
      "-1                13.6%\n",
      "26-100            12.8%\n",
      "6-25              12.0%\n",
      "500-1000           7.1%\n",
      "1-5                1.9%\n",
      "Name: proportion, dtype: object\n"
     ]
    }
   ],
   "source": [
    "sick_female_male_comparrison(8)"
   ]
  },
  {
   "cell_type": "markdown",
   "metadata": {},
   "source": [
    "Most of the male and female around 30% with mental health disorder works in the companies with more than 1000 employees.\n",
    "Though size might not be important factor. In the table above for male and female percentage for companies with 500-1000 is less than in companies with 6-25 and 26-100 employees. "
   ]
  },
  {
   "cell_type": "markdown",
   "metadata": {},
   "source": [
    "Do females and males with mental health disorder knows about their company available health care coverage?"
   ]
  },
  {
   "cell_type": "code",
   "execution_count": 846,
   "metadata": {},
   "outputs": [
    {
     "name": "stdout",
     "output_type": "stream",
     "text": [
      " Female having current illness answers for question Do you know the options for mental health care available under your employer-provided health coverage? 14\n",
      "Yes    55.3%\n",
      "No     27.0%\n",
      "-1     17.6%\n",
      "Name: proportion, dtype: object\n",
      " Male having current illness answers for question Do you know the options for mental health care available under your employer-provided health coverage? 14\n",
      "Yes    45.1%\n",
      "No     32.9%\n",
      "-1     22.0%\n",
      "Name: proportion, dtype: object\n"
     ]
    }
   ],
   "source": [
    "sick_female_male_comparrison(14)"
   ]
  },
  {
   "cell_type": "markdown",
   "metadata": {},
   "source": [
    "Around half of people with mental health disorders know about options in their company for the health care."
   ]
  },
  {
   "cell_type": "markdown",
   "metadata": {},
   "source": [
    "Do females and males who has a mental disorder currently had a disorder in the past?"
   ]
  },
  {
   "cell_type": "code",
   "execution_count": 847,
   "metadata": {},
   "outputs": [
    {
     "name": "stdout",
     "output_type": "stream",
     "text": [
      " Female having current illness answers for question Have you had a mental health disorder in the past? 32\n",
      "Yes           86.1%\n",
      "Possibly       8.2%\n",
      "No             2.5%\n",
      "-1             2.0%\n",
      "Don't Know     1.2%\n",
      "Name: proportion, dtype: object\n",
      " Male having current illness answers for question Have you had a mental health disorder in the past? 32\n",
      "Yes           74.2%\n",
      "Possibly      14.4%\n",
      "No             5.7%\n",
      "Don't Know     3.3%\n",
      "-1             2.4%\n",
      "Name: proportion, dtype: object\n"
     ]
    }
   ],
   "source": [
    "sick_female_male_comparrison(32)"
   ]
  },
  {
   "cell_type": "markdown",
   "metadata": {},
   "source": [
    "Yes, both female and male who had a disorder in the past has a disorder. 86.1%  of female and 74.2%  male continue to have a mental health disorder."
   ]
  },
  {
   "cell_type": "markdown",
   "metadata": {},
   "source": [
    "Do people with mental health disorder discuss their mental health with employeer?"
   ]
  },
  {
   "cell_type": "code",
   "execution_count": 954,
   "metadata": {},
   "outputs": [
    {
     "data": {
      "image/png": "[encoded data removed]",
      "text/plain": [
       "<Figure size 800x500 with 1 Axes>"
      ]
     },
     "metadata": {},
     "output_type": "display_data"
    }
   ],
   "source": [
    "sick_now_female= pivot_table[(pivot_table[33] == 'Yes') & (pivot_table[2] == 'female')]\n",
    "sick_now_male= pivot_table[(pivot_table[33] == 'Yes') & (pivot_table[2] == 'male')]\n",
    "compare1 = sick_now_female\n",
    "compare2 = sick_now_male\n",
    "\n",
    "\n",
    "female= pivot_table[pivot_table[2] == 'female']\n",
    "data_to_plot1 = sick_now_female[58].value_counts(normalize=True)\n",
    "data_to_plot2 = sick_now_female[70].value_counts(normalize=True)\n",
    "data_to_plot3 = sick_now_male[58].value_counts(normalize=True)\n",
    "data_to_plot4 = sick_now_male[70].value_counts(normalize=True)\n",
    "\n",
    "\n",
    "plt.figure(figsize=(8, 5))\n",
    "data_to_plot1.plot( kind='line', color='orange', label ='Female, 58 discuss mental health with employeer',marker='^', linestyle='none')\n",
    "data_to_plot2.plot( kind='line', color='blue', label ='Female, 70 discuss mental health with Previous employeer', marker='^', linestyle='none')\n",
    "data_to_plot3.plot( kind='line', color='orange', label ='Male, 58 discuss mental health with employeer', marker='v', linestyle='none')\n",
    "data_to_plot4.plot( kind='line', color='blue', label ='Male, 70 discuss mental health with Previous employeer', marker='v', linestyle='none')\n",
    "\n",
    "plt.xticks([0, 1, 2], ['No', 'Yes', 'Missing'])\n",
    "plt.ylabel(\"Rate\")\n",
    "plt.title(\"Do people with mental health disorder discuss their mental health with employeer?\")\n",
    "plt.legend()\n",
    "plt.show()"
   ]
  },
  {
   "cell_type": "markdown",
   "metadata": {},
   "source": [
    "No, most of male and female with a health disorder do not discuss illness with employeer. Around 60% of respondents choose not discuss mental heatlh with Previous employeer. With current employeer 15% male and 10% female decided to change and talk about their mental health."
   ]
  },
  {
   "cell_type": "markdown",
   "metadata": {},
   "source": [
    "Do people with mental health disorder discuss their mental health with co-worker?"
   ]
  },
  {
   "cell_type": "code",
   "execution_count": 955,
   "metadata": {},
   "outputs": [
    {
     "data": {
      "image/png": "[encoded data removed]",
      "text/plain": [
       "<Figure size 800x500 with 1 Axes>"
      ]
     },
     "metadata": {},
     "output_type": "display_data"
    }
   ],
   "source": [
    "sick_now_female= pivot_table[(pivot_table[33] == 'Yes') & (pivot_table[2] == 'female')]\n",
    "sick_now_male= pivot_table[(pivot_table[33] == 'Yes') & (pivot_table[2] == 'male')]\n",
    "compare1 = sick_now_female\n",
    "compare2 = sick_now_male\n",
    "\n",
    "\n",
    "female= pivot_table[pivot_table[2] == 'female']\n",
    "data_to_plot1 = sick_now_female[60].value_counts(normalize=True)\n",
    "data_to_plot2 = sick_now_female[72].value_counts(normalize=True)\n",
    "data_to_plot3 = sick_now_male[60].value_counts(normalize=True)\n",
    "data_to_plot4 = sick_now_male[72].value_counts(normalize=True)\n",
    "\n",
    "\n",
    "plt.figure(figsize=(8, 5))\n",
    "data_to_plot1.plot( kind='line', color='orange', label ='Female, 60 discuss mental health with co-worker',marker='*', linestyle='none')\n",
    "data_to_plot2.plot( kind='line', color='orange', label ='Female, 72 discuss mental health with Previous co-worker', marker='s', linestyle='none')\n",
    "data_to_plot3.plot( kind='line', color='green', label ='Male, 60 discuss mental health with co-worker', marker='*', linestyle='none')\n",
    "data_to_plot4.plot( kind='line', color='green', label ='Male, 72 discuss mental health with Previous co-worker', marker='s', linestyle='none')\n",
    "\n",
    "plt.xticks([0, 1, 2], ['No', 'Yes', 'Missing'])\n",
    "plt.ylabel(\"Rate\")\n",
    "plt.title(\"Do people with mental health disorder discuss their mental health with co-worker?\")\n",
    "plt.legend()\n",
    "plt.show()"
   ]
  },
  {
   "cell_type": "markdown",
   "metadata": {},
   "source": [
    "Around 60% of female do not discuss mental health with co-workers. Around 50% of male do not discuss their mental health with co-worker. In the past 45 of females choose to discuss, but trend decrease by 15% to discuss with new co-workers."
   ]
  },
  {
   "cell_type": "markdown",
   "metadata": {},
   "source": [
    "## Summary"
   ]
  },
  {
   "cell_type": "markdown",
   "metadata": {},
   "source": [
    "Half of population has a mental health disorder. Half of that do not discuss their health at work.\n",
    "86% of females and 74% of males continue to have a mental health disorder at the time of the survey. Proffesional help seeks 70% of females and 55%  of males. Only half of people know about their mental health medical coverage options provided by their employeer.\n",
    "\n",
    "\n",
    "1. 43% of population diagnosed with mood disorder, xnxiety disorder and Attention Deficit Hyperactivity Disorder.\n",
    "2. 55% of female has a mental disorder, males - 37%.\n",
    "3. Females choose not disclose illness in new jobs. 15% less females discuss their mental health in comparrison with previous co-workers.\n",
    "4. 50% of males do not discuss their mental health with current co-workers.\n",
    "\n",
    "\n",
    "\n",
    "Possible improvements:\n",
    "1. Incorporating some statistical tests (e.g., Chi-square test for categorical data) would validate whether the differences observed between males and females are statistically significant or due to chance.\n",
    "2. Calculate more confidence intervals.\n",
    "3. Trends over the years.\n",
    "4. Grouping questions by answer types, personal views, company attitude or other factors.\n",
    "5. Adding plot function.\n",
    "6. Investigate data design to understand target population.\n",
    "\n",
    "\n"
   ]
  }
 ],
 "metadata": {
  "kernelspec": {
   "display_name": "Python 3",
   "language": "python",
   "name": "python3"
  },
  "language_info": {
   "codemirror_mode": {
    "name": "ipython",
    "version": 3
   },
   "file_extension": ".py",
   "mimetype": "text/x-python",
   "name": "python",
   "nbconvert_exporter": "python",
   "pygments_lexer": "ipython3",
   "version": "3.12.6"
  }
 },
 "nbformat": 4,
 "nbformat_minor": 2
}
